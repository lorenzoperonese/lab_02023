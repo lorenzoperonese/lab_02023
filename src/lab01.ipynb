{
 "cells": [
  {
   "cell_type": "markdown",
   "source": [
    "# Laboratiorio 1\n",
    "## 1) Machine precision\n",
    "Machine epsilon or machine precision is an upper bound on the relative approximation error\n",
    "due to rounding in floating point arithmetic. Execute the following code:\n",
    "`import sys`\n",
    "`help(sys.float_info)`\n",
    "`print(sys.float_info)`\n",
    "• understand the meaning of `max`, `max_exp` and `max_10_exp`.\n",
    "• Write a code to compute the machine precision $\\epsilon in (float) default precision with a while construct. Compute also the mantissa digits number.\n",
    "• Use NumPy and exploit the functions `float16` and `float31` in the while statement and see the differences. Check the result of `np.finfo(float).eps`."
   ],
   "metadata": {
    "collapsed": false
   },
   "id": "4045e858b9caa553"
  },
  {
   "cell_type": "markdown",
   "source": [
    "# 2) Plot of a function\n",
    "## 2.1) Practice with matplotlib\n",
    "`Matplotlib` is a plotting library for the Python programming language and its numerical mathematics extension `NumPy`. \n",
    "Create a figure combining the cosine and sine curves, on the domain $[0, 10]$:\n",
    "• add a legend;\n",
    "• add a title;\n",
    "• change the default colors."
   ],
   "metadata": {
    "collapsed": false
   },
   "id": "ba18c6881c98143c"
  },
  {
   "cell_type": "markdown",
   "source": [
    "## 2.2) The Fibonacci sequence\n",
    "The Fibonacci sequence is a sequence in which each number is the sum of the two preceding ones and it is formally defined as:\n",
    "$\n",
    "\\left\\{\n",
    "    \\begin{array}{ll}\n",
    "        F_1 = F_2 = 1 \\\\\n",
    "        F_n = F_{n-1} + F_{n-2} & \\text{for } n > 2\n",
    "    \\end{array}\n",
    "\\right.\n",
    "$\n",
    "\n",
    "• Write a script that, given an input number $n$, computes the number $F_n$ of the Fibonacci sequence.\n",
    "• Write a code computing, for a natural number $k$, the ratio $r_k = \\dfrac{F_{k+1}}{F_k}$, where $F_k$ are the Fibonacci numbers.\n",
    "• Verify that, for a large k, $\\{r_k\\}_k$ converges to the value $\\varphi = \\dfrac{1+\\sqrt{5}}{2}$.\n",
    "• Create a plot of the error (with respect to $\\varphi$)."
   ],
   "metadata": {
    "collapsed": false
   },
   "id": "6b9afc89dc8bfd48"
  }
 ],
 "metadata": {
  "kernelspec": {
   "display_name": "Python 3",
   "language": "python",
   "name": "python3"
  },
  "language_info": {
   "codemirror_mode": {
    "name": "ipython",
    "version": 2
   },
   "file_extension": ".py",
   "mimetype": "text/x-python",
   "name": "python",
   "nbconvert_exporter": "python",
   "pygments_lexer": "ipython2",
   "version": "2.7.6"
  }
 },
 "nbformat": 4,
 "nbformat_minor": 5
}
