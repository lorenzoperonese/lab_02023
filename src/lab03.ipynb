{
 "cells": [
  {
   "cell_type": "markdown",
   "source": [
    "# Laboratorio 3\n",
    "## 1) Compressione immagini SVD\n",
    "• La funzione `scipy.linalg.svd` permette di calcolare la decomposizione SVD di una matrice.\n",
    "• La libreria `skimage` permette di caricare/salvare immagini.\n",
    "• Se skimage non risulta disponibile, si può installare eseguendo nell’Anaconda prompt il seguente comando: `conda install scikit-image`\n",
    "<br>\n",
    "### Esercizio 1:\n",
    "Utilizzando la libreria `skimage`, nello specifico il modulo `data`, caricare e visualizzare un’immagine $A$ (diversa dal cameraman) in scala di grigio di dimensione m x n.\n",
    "1. Calcolare la matrice $A_p = \\sum_{i=1}^p u_i \\text{ * } v_i^T \\text{ * } \\sigma_i$, dove $p ≤ rango(A)$.\n",
    "2. Visualizzare l’immagine $A_p$.\n",
    "3. Calcolare l’errore relativo: $\\dfrac{\\|A − A_p\\|_2}{\\|A\\|_2}$.\n",
    "4. Calcolare il fattore di compressione: $c_p = \\dfrac{1}{p} min(m, n) − 1$.\n",
    "5. Calcolare e plottare l’errore relativo e il fattore di compressione al variare di $p$.\n"
   ],
   "metadata": {
    "collapsed": false
   },
   "id": "dad9cad217947a79"
  },
  {
   "cell_type": "code",
   "outputs": [],
   "source": [
    "import numpy as np\n",
    "import matplotlib.pyplot as plt\n",
    "import scipy.linalg\n",
    "from skimage import data\n",
    "from skimage.io import imread\n",
    "\n",
    "# help(data)\n",
    "\n",
    "A = data.camera()\n",
    "# A = data...\n",
    "# A = imread...\n",
    "\n",
    "\n",
    "print(type(A))\n",
    "print(A.shape)\n",
    "\n",
    "\n",
    "plt.imshow(A, cmap='gray')\n",
    "plt.show()\n",
    "\n",
    "\n",
    "U, s, Vh = ...\n",
    "\n",
    "print('Shape of U:', U.shape)\n",
    "print('Shape of s:', s.shape)\n",
    "print('Shape of V:', Vh.T.shape)\n",
    "\n",
    "A_p = np.zeros(A.shape)\n",
    "p_max = 10\n",
    "\n",
    "\n",
    "for i in range(p_max):\n",
    "  ui = U[:, i]\n",
    "  vi = Vh[i, :]\n",
    "\n",
    "  A_p = ...\n",
    "\n",
    "err_rel = ...\n",
    "c = ...\n",
    "\n",
    "print('\\n')\n",
    "print('L\\'errore relativo della ricostruzione di A è', err_rel)\n",
    "print('Il fattore di compressione è c=', c)\n",
    "\n",
    "\n",
    "plt.figure(figsize=(20, 10))\n",
    "\n",
    "fig1 = plt.subplot(1, 2, 1)\n",
    "fig1.imshow(A, cmap='gray')\n",
    "plt.title('True image')\n",
    "\n",
    "fig2 = plt.subplot(1, 2, 2)\n",
    "fig2.imshow(A_p, cmap='gray')\n",
    "plt.title('Reconstructed image with p =' + str(p_max))\n",
    "\n",
    "plt.show()\n",
    "\n",
    "\n",
    "\n",
    "# al variare di p\n",
    "p_max = 100\n",
    "A_p = np.zeros(A.shape)\n",
    "err_rel = np.zeros((p_max))\n",
    "c = np.zeros((p_max))\n",
    "\n",
    "for i in range(p_max):\n",
    "  ui = U[:, i]\n",
    "  vi = Vh[i, :]\n",
    "\n",
    "  A_p = ...\n",
    "\n",
    "  ...\n",
    "  \n",
    "plt.figure(figsize=(10, 5))\n",
    "\n",
    "fig1 = plt.subplot(1, 2, 1)\n",
    "fig1.plot(err_rel, 'o-')\n",
    "plt.title('Errore relativo')\n",
    "\n",
    "fig2 = plt.subplot(1, 2, 2)\n",
    "fig2.plot(c, 'o-')\n",
    "plt.title('Fattore di compressione')\n",
    "\n",
    "plt.show()"
   ],
   "metadata": {
    "collapsed": false
   },
   "id": "8336034280a6c2f",
   "execution_count": null
  },
  {
   "cell_type": "markdown",
   "source": [
    "Eseguire l’esercizio precedente caricando un’immagine da un file usando la funzione `skimage.io.imread`."
   ],
   "metadata": {
    "collapsed": false
   },
   "id": "fedcc013ee2f35d4"
  }
 ],
 "metadata": {
  "kernelspec": {
   "display_name": "Python 3",
   "language": "python",
   "name": "python3"
  },
  "language_info": {
   "codemirror_mode": {
    "name": "ipython",
    "version": 2
   },
   "file_extension": ".py",
   "mimetype": "text/x-python",
   "name": "python",
   "nbconvert_exporter": "python",
   "pygments_lexer": "ipython2",
   "version": "2.7.6"
  }
 },
 "nbformat": 4,
 "nbformat_minor": 5
}
