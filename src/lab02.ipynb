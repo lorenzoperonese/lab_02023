{
 "cells": [
  {
   "cell_type": "markdown",
   "source": [
    "# Laboratiorio 2\n",
    "## 1) Matrici e norme\n",
    "Si consideri la matrice $A = \\begin{pmatrix} 1 & 2 \\\\ 0.499 & 1.001 \\end{pmatrix}$\n",
    "• Calcolare la norma 1, la norma 2, la norma Frobenius e la norma infinito di A con `numpy.linalg.norm()` (guardare l’help della funzione).\n",
    "• Calcolare il numero di condizionamento di A con `numpy.linalg.cond()` (guardare l’help della funzione).\n",
    "• Considerare il vettore colonna $x = (1, 1)^T$ e calcolare il corrispondente termine noto $b$ per il sistema lineare $Ax = b$.\n",
    "• Considerare ora il vettore $\\tilde{b} = (3, 1.4985)^T$ e verifica che $\\tilde{x} = (2, 0.5)^T$ è soluzione del sistema $A\\tilde{x} = \\tilde{b}$.\n",
    "• Calcolare la norma 2 della perturbazione sui termini noti $∆b = \\|b− \\tilde{b}\\|_2$ e la norma 2 della perturbazione sulle soluzioni $\\Delta_x = \\|x − \\tilde{x}\\|_2$. Confrontare $\\Delta_b$ con $\\Delta_x$."
   ],
   "metadata": {
    "collapsed": false
   },
   "id": "89f03f2234e7c234"
  },
  {
   "cell_type": "code",
   "outputs": [
    {
     "name": "stdout",
     "output_type": "stream",
     "text": [
      "Norme di A:\n",
      "Norma1 = 3.001\n",
      "Norma2 = 2.500200104037774\n",
      "Normafro = 2.5002003919686118\n",
      "Norma infinito = 3.0\n"
     ]
    }
   ],
   "source": [
    "import numpy as np\n",
    "\n",
    "#help(np.linalg) # View source\n",
    "#help (np.linalg.norm)\n",
    "#help (np.linalg.cond)\n",
    "\n",
    "n = 2\n",
    "A = np.array([[1, 2], [0.499, 1.001]])\n",
    "\n",
    "norm1 = np.linalg.norm(A, 1)\n",
    "norm2 =  np.linalg.norm(A, 2)\n",
    "normfro = np.linalg.norm(A, 'fro')\n",
    "norminf = np.linalg.norm(A, np.inf)\n",
    "\n",
    "print ('Norme di A:')\n",
    "print('Norma1 =', norm1)\n",
    "print('Norma2 =', norm2)\n",
    "print('Normafro =', normfro)\n",
    "print('Norma infinito =', norminf)"
   ],
   "metadata": {
    "collapsed": false,
    "ExecuteTime": {
     "end_time": "2024-01-08T21:00:40.392623070Z",
     "start_time": "2024-01-08T21:00:40.358065933Z"
    }
   },
   "id": "cfa9b679629f30f7",
   "execution_count": 35
  },
  {
   "cell_type": "code",
   "outputs": [
    {
     "name": "stdout",
     "output_type": "stream",
     "text": [
      "Numero di condizionamento di A:\n",
      "K(A)_1 = 3001.0000000001082\n",
      "K(A)_2 = 2083.666853410337\n",
      "K(A)_fro = 2083.6673333334084\n",
      "K(A)_inf = 3001.0000000001082\n"
     ]
    }
   ],
   "source": [
    "cond1 = np.linalg.cond(A, 1)\n",
    "cond2 = np.linalg.cond(A, 2)\n",
    "condfro = np.linalg.cond(A, 'fro')\n",
    "condinf = np.linalg.cond(A, np.inf)\n",
    "\n",
    "print('Numero di condizionamento di A:')\n",
    "print ('K(A)_1 =', cond1)\n",
    "print ('K(A)_2 =', cond2)\n",
    "print ('K(A)_fro =', condfro)\n",
    "print ('K(A)_inf =', condinf)"
   ],
   "metadata": {
    "collapsed": false,
    "ExecuteTime": {
     "end_time": "2024-01-08T20:33:00.930666483Z",
     "start_time": "2024-01-08T20:33:00.835666724Z"
    }
   },
   "id": "ae58aa903d8a8e05",
   "execution_count": 27
  },
  {
   "cell_type": "code",
   "outputs": [
    {
     "name": "stdout",
     "output_type": "stream",
     "text": [
      "A*xtilde = [[3.0], [1.4985]]\n",
      "0.0\n"
     ]
    }
   ],
   "source": [
    "x = np.ones((2,1))\n",
    "b = A.dot(x)\n",
    "\n",
    "btilde = np.array([[3], [1.4985]])\n",
    "xtilde = np.array([[2, 0.5]]).T\n",
    "\n",
    "# Verificare che xtilde è soluzione di A xtilde = btilde (Axtilde)\n",
    "my_btilde = A.dot(xtilde)\n",
    "\n",
    "print ('A*xtilde =', btilde.tolist())\n",
    "print(np.linalg.norm(btilde-my_btilde,'fro'))"
   ],
   "metadata": {
    "collapsed": false,
    "ExecuteTime": {
     "end_time": "2024-01-08T20:33:01.004290568Z",
     "start_time": "2024-01-08T20:33:00.898894772Z"
    }
   },
   "id": "aa3b709112b2a4bc",
   "execution_count": 28
  },
  {
   "cell_type": "code",
   "outputs": [
    {
     "name": "stdout",
     "output_type": "stream",
     "text": [
      "delta x = [[1.0], [-0.5]]\n",
      "delta b = [[0.0], [-0.0015000000000000568]]\n"
     ]
    }
   ],
   "source": [
    "deltax = xtilde - x\n",
    "deltab = btilde - b\n",
    "\n",
    "print ('delta x =', deltax.tolist())\n",
    "print ('delta b =', deltab.tolist())"
   ],
   "metadata": {
    "collapsed": false,
    "ExecuteTime": {
     "end_time": "2024-01-08T20:33:01.018342507Z",
     "start_time": "2024-01-08T20:33:00.975570389Z"
    }
   },
   "id": "984fbebeb28b0668",
   "execution_count": 29
  },
  {
   "cell_type": "markdown",
   "source": [
    "## 2) Metodi diretti\n",
    "### 2.1) Fattorizzazione LU\n",
    "Si consideri la matrice $A = \\begin{pmatrix} 3 & -1 & 1 & -2 \\\\ 0 & 2 & 5 & -1 \\\\ 1 & 0 & -7 & 1 \\\\ 0 & 2 & 1 & 1 \\end{pmatrix}$\n",
    "• Creare il problema test in cui il vettore della soluzione esatta è $x = (1, 1, 1, 1)^T$ e il vettore termine noto è $b = Ax$.\n",
    "• Guardare l’help della funzione `scipy.linalg.lu_factor` e `scipy.linalg.lu`. Usare una delle sue funzioni per calcolare la fattorizzazione LU di A con pivoting. Verificare la correttezza dell’output.\n",
    "• Risolvere il sistema lineare con la funzione `scipy.linalg.lu_solve` oppure utilizzando la funzione `scipy.linalg.solve_triangular`.\n",
    "• Stampare la soluzione calcolata e valutarne la correttezza.\n",
    "**NB** L’inversa di una matrice viene calcolata con la funzione `scipy.linalg.inv`."
   ],
   "metadata": {
    "collapsed": false
   },
   "id": "e64dd5d84785fdc4"
  },
  {
   "cell_type": "code",
   "outputs": [
    {
     "name": "stdout",
     "output_type": "stream",
     "text": [
      "x: [[1.0], [1.0], [1.0], [1.0]]\n",
      "x.shape: (4, 1)\n",
      "b: [[1.0], [6.0], [-5.0], [4.0]]\n",
      "b.shape:  (4, 1)\n",
      "A: \n",
      " [[ 3 -1  1 -2]\n",
      " [ 0  2  5 -1]\n",
      " [ 1  0 -7  1]\n",
      " [ 0  2  1  1]]\n",
      "A.shape: (4, 4)\n",
      "K(A): 16.801308003167016\n"
     ]
    }
   ],
   "source": [
    "# crazione dati e problema test\n",
    "A = np.array ([ [3,-1, 1,-2], [0, 2, 5, -1], [1, 0, -7, 1], [0, 2, 1, 1]  ])\n",
    "x = np.ones((4,1))\n",
    "b = A.dot(x)\n",
    "\n",
    "condA = np.linalg.cond(A, 'fro')\n",
    "\n",
    "print('x:', x.tolist())\n",
    "print('x.shape:', x.shape)\n",
    "print('b:', b.tolist())\n",
    "print('b.shape: ', b.shape)\n",
    "print('A: \\n', A)\n",
    "print('A.shape:', A.shape)\n",
    "print('K(A):', condA)"
   ],
   "metadata": {
    "collapsed": false,
    "ExecuteTime": {
     "end_time": "2024-01-08T20:33:01.122066652Z",
     "start_time": "2024-01-08T20:33:01.016394174Z"
    }
   },
   "id": "15ccaf44118b2687",
   "execution_count": 30
  },
  {
   "cell_type": "code",
   "outputs": [
    {
     "name": "stdout",
     "output_type": "stream",
     "text": [
      "lu: \n",
      " [[ 3.         -1.          1.         -2.        ]\n",
      " [ 0.          2.          5.         -1.        ]\n",
      " [ 0.33333333  0.16666667 -8.16666667  1.83333333]\n",
      " [ 0.          1.          0.48979592  1.10204082]] \n",
      "\n",
      "piv: [0 1 2 3] \n"
     ]
    }
   ],
   "source": [
    "import scipy\n",
    "# help (scipy)\n",
    "import scipy.linalg\n",
    "# help (scipy.linalg)\n",
    "from scipy.linalg import lu_factor as LUdec # pivoting\n",
    "from scipy.linalg import lu as LUfull # partial pivoting\n",
    "\n",
    "lu, piv = LUdec(A)\n",
    "\n",
    "print('lu: \\n',lu,'\\n')\n",
    "print('piv:',piv,'\\n')"
   ],
   "metadata": {
    "collapsed": false,
    "ExecuteTime": {
     "end_time": "2024-01-08T20:33:01.166448955Z",
     "start_time": "2024-01-08T20:33:01.113647461Z"
    }
   },
   "id": "5026228a611c96a9",
   "execution_count": 31
  },
  {
   "cell_type": "code",
   "outputs": [
    {
     "name": "stdout",
     "output_type": "stream",
     "text": [
      "my_x: [[1.0000000000000002], [0.9999999999999996], [1.0000000000000002], [1.0000000000000004]]\n",
      "norm: 7.021666937153402e-16\n"
     ]
    }
   ],
   "source": [
    "# risoluzione di    Ax = b   <--->  PLUx = b \n",
    "my_x = scipy.linalg.lu_solve((lu, piv), b)\n",
    "\n",
    "print('my_x:', my_x.tolist())\n",
    "print('norm:', scipy.linalg.norm(x-my_x, 'fro'))"
   ],
   "metadata": {
    "collapsed": false,
    "ExecuteTime": {
     "end_time": "2024-01-08T20:33:01.240121030Z",
     "start_time": "2024-01-08T20:33:01.167990611Z"
    }
   },
   "id": "c457e729d93ffbf9",
   "execution_count": 32
  },
  {
   "cell_type": "code",
   "outputs": [],
   "source": [
    "# IMPLEMENTAZIONE ALTERNATIVA - 1\n",
    "\n",
    "P, L, U = ...\n",
    "print ('A = ', A)\n",
    "print ('P = ', P)\n",
    "print ('L = ', L)\n",
    "print ('U = ', U)\n",
    "print ('P*L*U = ', np.matmul(P , np.matmul(L, U))) \n",
    "\n",
    "print ('diff = ',   np.linalg.norm(A - np.matmul(P , np.matmul(L, U)), 'fro'  ) ) \n",
    "\n",
    "\n",
    "# if P != np.eye(n): \n",
    "# Ax = b   <--->  PLUx = b  <--->  LUx = inv(P)b  <--->  Ly=inv(P)b & Ux=y : matrici triangolari\n",
    "# quindi\n",
    "invP = np.linalg.inv(P)\n",
    "y = scipy.linalg.solve_triangular(..., lower=True, unit_diagonal=True)\n",
    "my_x = scipy.linalg.solve_triangular(..., lower=False)\n",
    "\n",
    "# if P == np.eye(n): \n",
    "# Ax = b   <--->  PLUx = b  <--->  PLy=b & Ux=y\n",
    "# y = scipy.linalg.solve_triangular(np.matmul(P,L) , b, lower=True, unit_diagonal=True)\n",
    "# my_x = scipy.linalg.solve_triangular(U, y, lower=False)\n",
    "\n",
    "print('\\nSoluzione calcolata: ', my_x)\n",
    "print('norm =', scipy.linalg.norm(x-my_x, 'fro'))"
   ],
   "metadata": {
    "collapsed": false
   },
   "id": "4c21e00d4a19597",
   "execution_count": null
  },
  {
   "cell_type": "markdown",
   "source": [
    "### 2.2) Decomposizione di Cholesky\n",
    "Si ripeta l’esercizio precedente sulla matrice di Hilbert, che si può generare con la funzione A = `scipy.linalg.hilbert(n)` per $n = 5, . . . , 10$. In particolare:\n",
    "• Calcolare il numero di condizionamento di $A$ e rappresentarlo in un grafico al variare di $n$.\n",
    "• Considerare il vettore colonna $x = (1, . . . , 1)^T$ , calcola il corrispondente termine noto $b$ per il sistema lineare $Ax = b$ e la relativa soluzione $\\tilde{x}$ usando la fattorizzazione di Cholesky come nel caso precedente.\n",
    "• Si rappresenti l’errore relativo al variare delle dimensioni della matrice.\n",
    "**NB** La decomposizione di Cholesky viene calcolata con la funzione `scipy.linalg.cholesky`."
   ],
   "metadata": {
    "collapsed": false
   },
   "id": "d65b387eafe33f5e"
  },
  {
   "cell_type": "code",
   "outputs": [],
   "source": [
    "import matplotlib.pyplot as plt\n",
    "# help (scipy.linalg.cholesky)\n",
    "# help (scipy.linalg.hilbert)\n",
    "\n",
    "# crazione dati e problema test\n",
    "n = 5\n",
    "A = ...\n",
    "x = np.ones((n,1))\n",
    "b = ...\n",
    "\n",
    "condA = ...\n",
    "\n",
    "print('x: \\n', x , '\\n')\n",
    "print('x.shape: ', x.shape, '\\n' )\n",
    "print('b: \\n', b , '\\n')\n",
    "print('b.shape: ', b.shape, '\\n' )\n",
    "print('A: \\n', A, '\\n')\n",
    "print('A.shape: ', A.shape, '\\n' )\n",
    "print('K(A)=', condA, '\\n')\n",
    "\n",
    "L = ...\n",
    "print('L:', L, '\\n')\n",
    "\n",
    "print('L.T*L =', scipy.linalg.norm(A-np.matmul(np.transpose(L),L)))\n",
    "print('err = ', scipy.linalg.norm(A-np.matmul(np.transpose(L),L), 'fro'))\n",
    "\n",
    "y = ...\n",
    "my_x = ...\n",
    "print('my_x = \\n ', my_x)\n",
    "\n",
    "print('norm =', np.linalg.norm(x-my_x, 'fro'))\n",
    "\n",
    "\n",
    "K_A = np.zeros((6,1))\n",
    "Err = np.zeros((6,1))\n",
    "\n",
    "for n in np.arange(5,11):\n",
    "    # crazione dati e problema test\n",
    "    A = ...\n",
    "    x = ...\n",
    "    b = ...\n",
    "    \n",
    "    # numero di condizione \n",
    "    K_A[n-5] = ...\n",
    "    \n",
    "    # fattorizzazione \n",
    "    L = ...\n",
    "    y = ...\n",
    "    my_x = ...\n",
    "    \n",
    "    # errore relativo\n",
    "    Err[n-5] = np.linalg.norm(x-my_x, 'fro')/np.linalg.norm(x, 'fro')\n",
    "  \n",
    "xplot = np.arange(5,11)\n",
    "\n",
    "# grafico del numero di condizione vs dim\n",
    "plt.semilogy(...)\n",
    "plt.title('CONDIZIONAMENTO DI A ')\n",
    "plt.xlabel('dimensione matrice: n')\n",
    "plt.ylabel('K(A)')\n",
    "plt.show()\n",
    "\n",
    "\n",
    "# grafico errore in norma 2 in funzione della dimensione del sistema\n",
    "plt.plot(...)\n",
    "plt.title('Errore relativo')\n",
    "plt.xlabel('dimensione matrice: n')\n",
    "plt.ylabel('Err= ||my_x-x||/||x||')\n",
    "plt.show()"
   ],
   "metadata": {
    "collapsed": false
   },
   "id": "38bb877cf39432f7",
   "execution_count": 0
  }
 ],
 "metadata": {
  "kernelspec": {
   "display_name": "Python 3",
   "language": "python",
   "name": "python3"
  },
  "language_info": {
   "codemirror_mode": {
    "name": "ipython",
    "version": 2
   },
   "file_extension": ".py",
   "mimetype": "text/x-python",
   "name": "python",
   "nbconvert_exporter": "python",
   "pygments_lexer": "ipython2",
   "version": "2.7.6"
  }
 },
 "nbformat": 4,
 "nbformat_minor": 5
}
