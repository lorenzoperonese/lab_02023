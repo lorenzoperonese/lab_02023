{
 "cells": [
  {
   "cell_type": "markdown",
   "source": [
    "# Laboratiorio 2\n",
    "## 1) Matrici e norme\n",
    "Si consideri la matrice $A = \\begin{pmatrix} 1 & 2 \\\\ 0.499 & 1.001 \\end{pmatrix}$\n",
    "• Calcolare la norma 1, la norma 2, la norma Frobenius e la norma infinito di A con `numpy.linalg.norm()` (guardare l’help della funzione).\n",
    "• Calcolare il numero di condizionamento di A con `numpy.linalg.cond()` (guardare l’help della funzione).\n",
    "• Considerare il vettore colonna $x = (1, 1)^T$ e calcolare il corrispondente termine noto $b$ per il sistema lineare $Ax = b$.\n",
    "• Considerare ora il vettore $\\tilde{b} = (3, 1.4985)^T$ e verifica che $\\tilde{x} = (2, 0.5)^T$ è soluzione del sistema $A\\tilde{x} = \\tilde{b}$.\n",
    "• Calcolare la norma 2 della perturbazione sui termini noti $∆b = \\|b− \\tilde{b}\\|_2$ e la norma 2 della perturbazione sulle soluzioni $\\Delta_x = \\|x − \\tilde{x}\\|_2$. Confrontare $\\Delta_b$ con $\\Delta_x$."
   ],
   "metadata": {
    "collapsed": false
   },
   "id": "89f03f2234e7c234"
  },
  {
   "cell_type": "code",
   "outputs": [
    {
     "name": "stdout",
     "output_type": "stream",
     "text": [
      "Norme di A:\n",
      "Norma 1 =  3.001\n",
      "Norma 2 =  2.500200104037774\n",
      "Norma Frobenius =  2.5002003919686118\n",
      "Norma infinito =  3.0\n",
      "\n",
      "Condizionamento di A:\n",
      "K(A)_1 =  3001.0000000001082\n",
      "K(A)_2 =  2083.666853410337\n",
      "K(A)_fro = 2083.6673333334084\n",
      "K(A)_inf = 3001.0000000001082\n"
     ]
    }
   ],
   "source": [
    "import numpy as np\n",
    "\n",
    "A = np.array([[1, 2], [0.499, 1.001]])\n",
    "\n",
    "norm1 = np.linalg.norm(A, 1)\n",
    "norm2 =  np.linalg.norm(A, 2)\n",
    "normfro = np.linalg.norm(A, 'fro')\n",
    "norminf = np.linalg.norm(A, np.inf)\n",
    "\n",
    "print ('Norme di A:')\n",
    "print('Norma 1 = ', norm1)\n",
    "print('Norma 2 = ', norm2)\n",
    "print('Norma Frobenius = ', normfro)\n",
    "print('Norma infinito = ', norminf)\n",
    "print()\n",
    "\n",
    "cond1 = np.linalg.cond(A, 1)\n",
    "cond2 = np.linalg.cond(A, 2)\n",
    "condfro = np.linalg.cond(A, \"fro\")\n",
    "condinf = np.linalg.cond(A, np.inf)\n",
    "\n",
    "print ('Condizionamento di A:')\n",
    "print ('K(A)_1 = ', cond1)\n",
    "print ('K(A)_2 = ', cond2)\n",
    "print ('K(A)_fro =', condfro)\n",
    "print ('K(A)_inf =', condinf)"
   ],
   "metadata": {
    "collapsed": false,
    "ExecuteTime": {
     "end_time": "2024-01-18T18:52:55.757053257Z",
     "start_time": "2024-01-18T18:52:55.715237943Z"
    }
   },
   "id": "ea894f8f3cb5d59d",
   "execution_count": 8
  },
  {
   "cell_type": "code",
   "outputs": [
    {
     "name": "stdout",
     "output_type": "stream",
     "text": [
      "A * xtilde =  [[3.0], [1.4985]]\n",
      "Norm:  0.0\n",
      "Delta x =  1.118033988749895\n",
      "Delta b =  0.0015000000000000568\n",
      "Il problema è mal condizionato! (delta x >> delta b)\n"
     ]
    }
   ],
   "source": [
    "x = np.ones((2,1))\n",
    "b = np.matmul(A,x)\n",
    "\n",
    "btilde = np.array([[3], [1.4985]])\n",
    "xtilde = np.array([[2, 0.5]]).T\n",
    "\n",
    "my_btilde = np.matmul(A,xtilde)\n",
    "\n",
    "print ('A * xtilde = ', btilde.tolist())\n",
    "print(\"Norm: \", np.linalg.norm(btilde-my_btilde, \"fro\"))\n",
    "\n",
    "deltax = np.linalg.norm(x-xtilde, 2)\n",
    "deltab = np.linalg.norm(b-btilde, 2)\n",
    "\n",
    "print ('Delta x = ', deltax)\n",
    "print ('Delta b = ', deltab)\n",
    "print(\"Il problema è mal condizionato! (delta x >> delta b)\")"
   ],
   "metadata": {
    "collapsed": false,
    "ExecuteTime": {
     "end_time": "2024-01-18T18:52:56.066402288Z",
     "start_time": "2024-01-18T18:52:56.054984686Z"
    }
   },
   "id": "8421da10816e56ed",
   "execution_count": 9
  },
  {
   "cell_type": "markdown",
   "source": [
    "## 2) Metodi diretti\n",
    "### 2.1) Fattorizzazione LU\n",
    "Si consideri la matrice $A = \\begin{pmatrix} 3 & -1 & 1 & -2 \\\\ 0 & 2 & 5 & -1 \\\\ 1 & 0 & -7 & 1 \\\\ 0 & 2 & 1 & 1 \\end{pmatrix}$\n",
    "• Creare il problema test in cui il vettore della soluzione esatta è $x = (1, 1, 1, 1)^T$ e il vettore termine noto è $b = Ax$.\n",
    "• Guardare l’help della funzione `scipy.linalg.lu_factor` e `scipy.linalg.lu`. Usare una delle sue funzioni per calcolare la fattorizzazione LU di A con pivoting. Verificare la correttezza dell’output.\n",
    "• Risolvere il sistema lineare con la funzione `scipy.linalg.lu_solve` oppure utilizzando la funzione `scipy.linalg.solve_triangular`.\n",
    "• Stampare la soluzione calcolata e valutarne la correttezza.\n",
    "**NB** L’inversa di una matrice viene calcolata con la funzione `scipy.linalg.inv`."
   ],
   "metadata": {
    "collapsed": false
   },
   "id": "e64dd5d84785fdc4"
  },
  {
   "cell_type": "code",
   "outputs": [
    {
     "name": "stdout",
     "output_type": "stream",
     "text": [
      "x: [[1.0], [1.0], [1.0], [1.0]]\n",
      "x.shape: (4, 1)\n",
      "b: [[1.0], [6.0], [-5.0], [4.0]]\n",
      "b.shape:  (4, 1)\n",
      "A: \n",
      " [[ 3 -1  1 -2]\n",
      " [ 0  2  5 -1]\n",
      " [ 1  0 -7  1]\n",
      " [ 0  2  1  1]]\n",
      "A.shape:  (4, 4)\n",
      "K(A): 14.208370392921381\n"
     ]
    }
   ],
   "source": [
    "A = np.array ([ [3,-1, 1,-2], [0, 2, 5, -1], [1, 0, -7, 1], [0, 2, 1, 1] ])\n",
    "x = np.ones((4,1))\n",
    "b = np.matmul(A,x)\n",
    "condA = np.linalg.cond(A)\n",
    "\n",
    "print(\"x:\", x.tolist())\n",
    "print(\"x.shape:\", x.shape)\n",
    "print(\"b:\", b.tolist())\n",
    "print(\"b.shape: \", b.shape)\n",
    "print(\"A: \\n\", A)\n",
    "print(\"A.shape: \", A.shape)\n",
    "print(\"K(A):\", condA)"
   ],
   "metadata": {
    "collapsed": false,
    "ExecuteTime": {
     "end_time": "2024-01-18T18:52:56.537647960Z",
     "start_time": "2024-01-18T18:52:56.534330065Z"
    }
   },
   "id": "80829e3e14d40617",
   "execution_count": 10
  },
  {
   "cell_type": "code",
   "outputs": [
    {
     "name": "stdout",
     "output_type": "stream",
     "text": [
      "lu: \n",
      " [[ 3.         -1.          1.         -2.        ]\n",
      " [ 0.          2.          5.         -1.        ]\n",
      " [ 0.33333333  0.16666667 -8.16666667  1.83333333]\n",
      " [ 0.          1.          0.48979592  1.10204082]]\n",
      "piv: [0 1 2 3]\n",
      "my_x: [[1.0000000000000002], [0.9999999999999996], [1.0000000000000002], [1.0000000000000004]]\n",
      "Norm = 7.021666937153402e-16\n"
     ]
    }
   ],
   "source": [
    "import scipy\n",
    "from scipy.linalg import lu_factor as LUdec # pivoting\n",
    "from scipy.linalg import lu as LUfull # partial pivoting\n",
    "\n",
    "lu, piv = LUdec(A)\n",
    "\n",
    "print(\"lu: \\n\", lu)\n",
    "print(\"piv:\", piv)\n",
    "\n",
    "my_x = scipy.linalg.lu_solve((lu, piv), b)\n",
    "\n",
    "print(\"my_x:\", my_x.tolist())\n",
    "print(\"Norm =\", scipy.linalg.norm(x-my_x, \"fro\"))"
   ],
   "metadata": {
    "collapsed": false,
    "ExecuteTime": {
     "end_time": "2024-01-18T18:52:56.784071431Z",
     "start_time": "2024-01-18T18:52:56.779612615Z"
    }
   },
   "id": "138f7598c7d7c4f8",
   "execution_count": 11
  },
  {
   "cell_type": "code",
   "outputs": [
    {
     "name": "stdout",
     "output_type": "stream",
     "text": [
      "A: \n",
      " [[ 3 -1  1 -2]\n",
      " [ 0  2  5 -1]\n",
      " [ 1  0 -7  1]\n",
      " [ 0  2  1  1]]\n",
      "P: \n",
      " [[1. 0. 0. 0.]\n",
      " [0. 1. 0. 0.]\n",
      " [0. 0. 1. 0.]\n",
      " [0. 0. 0. 1.]]\n",
      "L: \n",
      " [[1.         0.         0.         0.        ]\n",
      " [0.         1.         0.         0.        ]\n",
      " [0.33333333 0.16666667 1.         0.        ]\n",
      " [0.         1.         0.48979592 1.        ]]\n",
      "U: \n",
      " [[ 3.         -1.          1.         -2.        ]\n",
      " [ 0.          2.          5.         -1.        ]\n",
      " [ 0.          0.         -8.16666667  1.83333333]\n",
      " [ 0.          0.          0.          1.10204082]]\n",
      "P * L * U: \n",
      " [[ 3. -1.  1. -2.]\n",
      " [ 0.  2.  5. -1.]\n",
      " [ 1.  0. -7.  1.]\n",
      " [ 0.  2.  1.  1.]]\n",
      "Diff:  1.5700924586837752e-16\n",
      "\n",
      "my_x: [[1.0000000000000002], [1.0], [1.0000000000000002], [1.0000000000000004]]\n",
      "Norm: 5.438959822042073e-16\n"
     ]
    }
   ],
   "source": [
    "# Soluzione alternativa\n",
    "P, L, U = LUfull(A)\n",
    "print (\"A: \\n\", A)\n",
    "print (\"P: \\n\", P)\n",
    "print (\"L: \\n\", L)\n",
    "print (\"U: \\n\", U)\n",
    "print (\"P * L * U: \\n\", np.matmul(P , np.matmul(L, U))) \n",
    "\n",
    "print (\"Diff: \", np.linalg.norm(A - np.matmul(P, np.matmul(L, U)), \"fro\"))\n",
    "print()\n",
    "\n",
    "# Ax = b   <--->  PLUx = b  <--->  LUx = inv(P)b  <--->  Ly=inv(P)b & Ux=y\n",
    "invP = np.linalg.inv(P)\n",
    "y = scipy.linalg.solve_triangular(L, np.matmul(invP,b), lower=True, unit_diagonal=True)\n",
    "my_x = scipy.linalg.solve_triangular(U, y, lower=False)\n",
    "\n",
    "print(\"my_x:\", my_x.tolist())\n",
    "print(\"Norm:\", scipy.linalg.norm(x-my_x, \"fro\"))"
   ],
   "metadata": {
    "collapsed": false,
    "ExecuteTime": {
     "end_time": "2024-01-18T18:52:57.044280406Z",
     "start_time": "2024-01-18T18:52:57.032548094Z"
    }
   },
   "id": "9e004242269b4a41",
   "execution_count": 12
  },
  {
   "cell_type": "markdown",
   "source": [
    "### 2.2) Decomposizione di Cholesky\n",
    "Si ripeta l’esercizio precedente sulla matrice di Hilbert, che si può generare con la funzione A = `scipy.linalg.hilbert(n)` per $n = 5, . . . , 10$. In particolare:\n",
    "• Calcolare il numero di condizionamento di $A$ e rappresentarlo in un grafico al variare di $n$.\n",
    "• Considerare il vettore colonna $x = (1, . . . , 1)^T$ , calcola il corrispondente termine noto $b$ per il sistema lineare $Ax = b$ e la relativa soluzione $\\tilde{x}$ usando la fattorizzazione di Cholesky come nel caso precedente.\n",
    "• Si rappresenti l’errore relativo al variare delle dimensioni della matrice.\n",
    "**NB** La decomposizione di Cholesky viene calcolata con la funzione `scipy.linalg.cholesky`."
   ],
   "metadata": {
    "collapsed": false
   },
   "id": "d65b387eafe33f5e"
  },
  {
   "cell_type": "code",
   "outputs": [
    {
     "name": "stdout",
     "output_type": "stream",
     "text": [
      "x: [[1.0], [1.0], [1.0], [1.0], [1.0]]\n",
      "x.shape: (5, 1)\n",
      "b: [[2.283333333333333], [1.45], [1.0928571428571427], [0.8845238095238095], [0.7456349206349207]]\n",
      "b.shape: (5, 1)\n",
      "A:\n",
      " [[1.         0.5        0.33333333 0.25       0.2       ]\n",
      " [0.5        0.33333333 0.25       0.2        0.16666667]\n",
      " [0.33333333 0.25       0.2        0.16666667 0.14285714]\n",
      " [0.25       0.2        0.16666667 0.14285714 0.125     ]\n",
      " [0.2        0.16666667 0.14285714 0.125      0.11111111]]\n",
      "A.shape: (5, 5)\n",
      "K(A): 476607.2502425855\n",
      "L:\n",
      " [[1.         0.         0.         0.         0.        ]\n",
      " [0.5        0.28867513 0.         0.         0.        ]\n",
      " [0.33333333 0.28867513 0.0745356  0.         0.        ]\n",
      " [0.25       0.25980762 0.1118034  0.01889822 0.        ]\n",
      " [0.2        0.23094011 0.12777531 0.03779645 0.0047619 ]]\n",
      "Diff: 2.7755575615628914e-17\n",
      "my_x:  [[0.9999999999999727], [1.0000000000004066], [0.9999999999985048], [1.0000000000019926], [0.9999999999991203]]\n",
      "Norm: 2.6732599660997558e-12\n"
     ]
    }
   ],
   "source": [
    "n = 5\n",
    "A = scipy.linalg.hilbert(n)\n",
    "x = np.ones((n,1))\n",
    "b = np.matmul(A,x)\n",
    "\n",
    "condA = np.linalg.cond(A)\n",
    "\n",
    "print(\"x:\", x.tolist())\n",
    "print(\"x.shape:\", x.shape)\n",
    "print(\"b:\", b.tolist())\n",
    "print(\"b.shape:\", b.shape)\n",
    "print(\"A:\\n\", A)\n",
    "print(\"A.shape:\", A.shape)\n",
    "print(\"K(A):\", condA)\n",
    "\n",
    "L = scipy.linalg.cholesky(A,lower=True)\n",
    "print(\"L:\\n\", L)\n",
    "print(\"Diff:\", scipy.linalg.norm(A-np.matmul(L,np.transpose(L)), \"fro\"))\n",
    "\n",
    "y = scipy.linalg.solve_triangular(L, b, lower=True, unit_diagonal=False)\n",
    "my_x = scipy.linalg.solve_triangular(np.transpose(L), y, lower=False)\n",
    "print(\"my_x: \", my_x.tolist())\n",
    "\n",
    "print(\"Norm:\", np.linalg.norm(x-my_x, \"fro\"))"
   ],
   "metadata": {
    "collapsed": false,
    "ExecuteTime": {
     "end_time": "2024-01-18T18:52:57.726509257Z",
     "start_time": "2024-01-18T18:52:57.722549257Z"
    }
   },
   "id": "dda9cd66b2ab8d52",
   "execution_count": 13
  },
  {
   "cell_type": "code",
   "outputs": [
    {
     "data": {
      "text/plain": "<Figure size 640x480 with 1 Axes>",
      "image/png": "[encoded data removed]"
     },
     "metadata": {},
     "output_type": "display_data"
    },
    {
     "data": {
      "text/plain": "<Figure size 640x480 with 1 Axes>",
      "image/png": "[encoded data removed]"
     },
     "metadata": {},
     "output_type": "display_data"
    }
   ],
   "source": [
    "import matplotlib.pyplot as plt\n",
    "\n",
    "K_A = np.zeros((6,1))\n",
    "Err = np.zeros((6,1))\n",
    "\n",
    "for n in np.arange(5,11):\n",
    "    A = scipy.linalg.hilbert(n)\n",
    "    x = np.ones((n,1))\n",
    "    b = np.matmul(A,x)\n",
    "    \n",
    "    K_A[n-5] = np.linalg.cond(A)\n",
    "    \n",
    "    L = scipy.linalg.cholesky(A,lower=True)\n",
    "    y = scipy.linalg.solve_triangular(L, b, lower=True, unit_diagonal=False)\n",
    "    my_x = scipy.linalg.solve_triangular(np.transpose(L), y, lower=False)\n",
    "    \n",
    "    Err[n-5] = np.linalg.norm(x-my_x, \"fro\")/np.linalg.norm(x, \"fro\")\n",
    "  \n",
    "xplot = np.arange(5,11)\n",
    "\n",
    "# grafico del numero di condizione vs dim\n",
    "plt.semilogy(xplot,K_A)\n",
    "plt.title(\"CONDIZIONAMENTO DI A\")\n",
    "plt.xlabel(\"Dimensione matrice: n\")\n",
    "plt.ylabel(\"K(A)\")\n",
    "plt.show()\n",
    "\n",
    "plt.plot(xplot,Err)\n",
    "plt.title(\"Errore relativo\")\n",
    "plt.xlabel(\"Dimensione matrice: n\")\n",
    "plt.ylabel(\"Err= ||my_x-x||/||x||\")\n",
    "plt.show()"
   ],
   "metadata": {
    "collapsed": false,
    "ExecuteTime": {
     "end_time": "2024-01-18T18:52:58.839922639Z",
     "start_time": "2024-01-18T18:52:58.435149772Z"
    }
   },
   "id": "2c709289570c052a",
   "execution_count": 14
  }
 ],
 "metadata": {
  "kernelspec": {
   "display_name": "Python 3",
   "language": "python",
   "name": "python3"
  },
  "language_info": {
   "codemirror_mode": {
    "name": "ipython",
    "version": 2
   },
   "file_extension": ".py",
   "mimetype": "text/x-python",
   "name": "python",
   "nbconvert_exporter": "python",
   "pygments_lexer": "ipython2",
   "version": "2.7.6"
  }
 },
 "nbformat": 4,
 "nbformat_minor": 5
}
