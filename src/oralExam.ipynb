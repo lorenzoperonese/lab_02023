{
 "cells": [
  {
   "cell_type": "markdown",
   "source": [
    "# Preparazione per esame orale\n",
    "## Domanda 1: sistemi lineari\n",
    "Dato un problema test di dimensioni variabili $Ax = b$ la cui soluzione esatta è il vettore $\\tilde{x} = (1, . . . , 1)^T$ e $b$ è il termine noto, ottenuto come $A\\tilde{x}$, calcolare:\n",
    "+ il numero di condizionamento della matrice A\n",
    "+ la soluzione $x$ del sistema lineare $Ax = b$ mediante la fattorizzazione LU con pivoting.\n",
    "Considerare come matrice A la matrice quadrata, di numeri casuali generati mediante la funzione `randn` di Numpy, con $n$ variabile tra 10 e 1000."
   ],
   "metadata": {
    "collapsed": false
   },
   "id": "ea7a5cd193ed951f"
  },
  {
   "cell_type": "markdown",
   "source": [
    "## Domanda 2: sistemi lineari\n",
    "Dato un problema test di dimensioni variabili $Ax = b$ la cui soluzione esatta è il vettore $\\tilde{x} = (1, . . . , 1)^T$ e $b$ è il termine noto, ottenuto come $A\\tilde{x}$, calcolare:\n",
    "+ il numero di condizionamento della matrice A\n",
    "+ la soluzione $x$ del sistema lineare $Ax = b$ mediante la fattorizzazione di Cholesky.\n",
    "Considerare come matrice A la matrice tridiagonale simmetrica definita positiva, avente sulla diagonale principale elementi uguali a 9 ed elementi nella sopra e sottodiagonale uguali a -4, con $n$ variabile."
   ],
   "metadata": {
    "collapsed": false
   },
   "id": "4691a13ce650f797"
  },
  {
   "cell_type": "markdown",
   "source": [
    "## Domanda 3: sistemi lineari\n",
    "Dato un problema test di dimensioni variabili $Ax = b$ la cui soluzione esatta è il vettore $\\tilde{x} = (1, . . . , 1)^T$ e $b$ è il termine noto, ottenuto come $A\\tilde{x}$, calcolare:\n",
    "+ il numero di condizionamento della matrice A\n",
    "+ la soluzione $x$ del sistema lineare $Ax = b$ mediante la fattorizzazione di Cholesky.\n",
    "Considerare come matrice A la matrice di Hilbert di dimensioni $n$ tra 2 e 15."
   ],
   "metadata": {
    "collapsed": false
   },
   "id": "156969c5a3c409e5"
  },
  {
   "cell_type": "markdown",
   "source": [
    "## Domanda 4: Compressione SVD\n",
    "Discutere la compressione di un’immagine ottenuta approssimandola con diadi calcolate mediante la decomposizione in valori singolari, visualizzando le immagini ottenute al variare del numero $p$ di diadi. Analizzare inoltre i grafici dell’errore relativo e del fattore di compressione $c_p$ al variare di $p$."
   ],
   "metadata": {
    "collapsed": false
   },
   "id": "5f9e16d20b82eac9"
  },
  {
   "cell_type": "markdown",
   "source": [
    "## Domanda 5: approssimazione minimimi quadrati\n",
    "Discutere l’approssimazione a $m$ dati equispaziati ottenuti campionando la funzione $f(x) = exp(x/2)$ nell’intervallo $[−1, 1]$ usando polinomi di grado $n \\in \\{1, 2, 3, 5, 7\\}$.\n",
    "Si risolva il problema dei minimi quadrati sia mediante le equazioni normali che con SVD, calcolando l’errore di approssimazione in norma 2 per entrambi i metodi. Infine graficare le approssimazioni polinomiali ottenute."
   ],
   "metadata": {
    "collapsed": false
   },
   "id": "d27c6ab1087298ec"
  },
  {
   "cell_type": "markdown",
   "source": [
    "## Domanda 6: approssimazione minimimi quadrati\n",
    "Discutere l’approssimazione a $m$ dati equispaziati ottenuti campionando la funzione $f(x) = \\dfrac{1}{1 + 25\\:x^2}$ nell’intervallo $[−1, 1]$ usando polinomi di grado $n \\in \\{1, 2, 3, 5, 7\\}$.\n",
    "Si risolva il problema dei minimi quadrati sia mediante le equazioni normali che con SVD, calcolando l’errore di approssimazione in norma 2 per entrambi i metodi. Infine graficare le approssimazioni polinomiali ottenute."
   ],
   "metadata": {
    "collapsed": false
   },
   "id": "ab9a0fd33139e29b"
  },
  {
   "cell_type": "markdown",
   "source": [
    "## Domanda 7: approssimazione minimimi quadrati\n",
    "Discutere l’approssimazione a $m$ dati equispaziati ottenuti campionando la funzione $f(x) = \\sin{x} + \\cos{x}$ nell’intervallo $[0, 2\\pi]$ usando polinomi di grado $n \\in \\{1, 2, 3, 5, 7\\}$.\n",
    "Si risolva il problema dei minimi quadrati sia mediante le equazioni normali che con SVD, calcolando l’errore di approssimazione in norma 2 per entrambi i metodi. Infine graficare le approssimazioni polinomiali ottenute."
   ],
   "metadata": {
    "collapsed": false
   },
   "id": "454e64c699cd3523"
  },
  {
   "cell_type": "markdown",
   "source": [
    "## Domanda 8: calcolo zero funzione\n",
    "Discutere i risultati ottenuti per calcolare lo zero della funzione $f(x) = e^x − x^2$ nell’intervallo $[−1, 1]$ utilizzando:\n",
    "+ il metodo di Newton,\n",
    "+ il metodo delle approssimazioni successive con $g(x) = x − f(x)e^{x/2}$,\n",
    "+ il metodo delle approssimazioni successive con $g(x) = x − f(x)e^{−x/2}$,\n",
    "\n",
    "mostrando la distanza tra due iterate consecutive e l’errore commesso al variare delle iterazioni ($x^\\ast \\approx −0.703467$)."
   ],
   "metadata": {
    "collapsed": false
   },
   "id": "50af875a819ed25a"
  },
  {
   "cell_type": "markdown",
   "source": [
    "# Domanda 9: calcolo zero funzione\n",
    "Discutere i risultati ottenuti per calcolare lo zero della funzione $f(x) = x^3 + 4x \\cos{x} − 2$ nell’intervallo $[0, 2]$ utilizzando:\n",
    "+ il metodo delle approssimazioni successive con $g(x) = \\dfrac{2−x^3}{4\\cos{x}}$,\n",
    "+ il metodo di Newton,\n",
    "\n",
    "mostrando l’errore commesso al variare delle iterazioni ($x^\\ast \\approx 0.5369$)."
   ],
   "metadata": {
    "collapsed": false
   },
   "id": "d5a67535eff70ec9"
  },
  {
   "cell_type": "markdown",
   "source": [
    "## Domanda 10: calcolo zero funzione\n",
    "Discutere i risultati ottenuti per calcolare lo zero della funzione $f(x) = x − x^{1/3} − 2$ nell’intervallo $[3, 5]$ utilizzando:\n",
    "+ il metodo delle approssimazioni successive con $g(x) = x^{1/3} + 2$,\n",
    "+ il metodo di Newton\n",
    "\n",
    "mostrando l’errore commesso al variare delle iterazioni ($x^\\ast \\approx 3.5213$)."
   ],
   "metadata": {
    "collapsed": false
   },
   "id": "cac59053465c892a"
  },
  {
   "cell_type": "markdown",
   "source": [
    "## Domanda 11: metodo del gradiente\n",
    "Discutere la minimizzazione della funzione quadratica:\n",
    "$$ f(x, y) = 3(x − 2)^2 + (y − 1)^2 $$\n",
    "(che ha un minimo globale in (2, 1)) utilizzando il metodo del gradiente con passo sia fisso che variabile calcolato con algoritmo di backtracking. \n",
    "Discutere i grafici dell’errore, del valore della funzione e della norma del gradiente al variare delle iterazioni."
   ],
   "metadata": {
    "collapsed": false
   },
   "id": "aed49fc66d99620c"
  },
  {
   "cell_type": "markdown",
   "source": [
    "## Domanda 12: metodo del gradiente\n",
    "Discutere la minimizzazione della funzione di Rosenbrock:\n",
    "$$ f(x, y) = 100(y − x^2)^2 + (1 − x)^2 $$\n",
    "(che ha un minimo globale in (1, 1)) utilizzando il metodo del gradiente con passo sia fisso che variabile calcolato con algoritmo di backtracking. \n",
    "Discutere i grafici dell’errore, del valore della funzione e della norma del gradiente al variare delle iterazioni."
   ],
   "metadata": {
    "collapsed": false
   },
   "id": "8965ea9376ea0a7a"
  },
  {
   "cell_type": "markdown",
   "source": [
    "## Domanda 13: deblur\n",
    "Discutere la ricostruzione di un’immagine corrotta da blur e rumore, mostrando la soluzione naive, ottenuta risolvendo il problema dei minimi quadrati e la soluzione ottenuta con il metodo di regolarizzazione di Tikhonov. \n",
    "Mostrare inoltre le immagini ricostruite e i grafici dei parametri PSNR e MSE al variare del numero di iterazioni. \n",
    "Infine discutere i risultati al variare del parametro di regolarizzazione $\\lambda$."
   ],
   "metadata": {
    "collapsed": false
   },
   "id": "fb970919b318a9cb"
  },
  {
   "cell_type": "markdown",
   "source": [
    "## Domanda 14: super resolution\n",
    "Discutere la ricostruzione di un’immagine corrotta da blur, downsampling e rumore, mostrando la soluzione naive, ottenuta risolvendo il problema dei minimi quadrati e la soluzione ottenuta con il metodo di regolarizzazione di Tikhonov. \n",
    "Mostrare inoltre le immagini ricostruite e i grafici dei parametri PSNR e MSE al variare del numero di iterazioni. \n",
    "Infine discutere i risultati al variare del parametro di regolarizzazione $\\lambda$."
   ],
   "metadata": {
    "collapsed": false
   },
   "id": "cce338839e46d83d"
  }
 ],
 "metadata": {
  "kernelspec": {
   "display_name": "Python 3",
   "language": "python",
   "name": "python3"
  },
  "language_info": {
   "codemirror_mode": {
    "name": "ipython",
    "version": 2
   },
   "file_extension": ".py",
   "mimetype": "text/x-python",
   "name": "python",
   "nbconvert_exporter": "python",
   "pygments_lexer": "ipython2",
   "version": "2.7.6"
  }
 },
 "nbformat": 4,
 "nbformat_minor": 5
}
