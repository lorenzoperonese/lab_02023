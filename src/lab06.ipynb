{
 "cells": [
  {
   "cell_type": "markdown",
   "source": [
    "# Laboratorio 6\n",
    "## 1) Metodo del gradiente per l’ottimizzazione in $\\mathbb{R}^n$\n",
    "\n",
    "### Esercizio 1:\n",
    "Si consideri $f : \\mathbb{R}^n → \\mathbb{R}$ differenziabile. Scrivere una funzione Python che implementi il\n",
    "metodo di discesa del gradiente per risolvere il problema di minimo:\n",
    "$$ \\arg \\min_{x \\in \\mathbb{R}^n} f(x) $$\n",
    "Utilizzare una flag per scegliere se utilizzare:\n",
    "• step size $\\alpha > 0$ costante, passato in input;\n",
    "• step size $\\alpha_k$ variabile, calcolato secondo la procedura di backtracking ad ogni iterazione k-esima."
   ],
   "metadata": {
    "collapsed": false
   },
   "id": "3c596786ae0cffc1"
  },
  {
   "cell_type": "code",
   "outputs": [],
   "source": [
    "import numpy as np\n",
    "import matplotlib.pyplot as plt\n",
    "\n",
    "def next_step(x,grad): # backtracking procedure for the choice of the steplength\n",
    "  alpha=1.1\n",
    "  rho = 0.5\n",
    "  c1 = 0.25 \n",
    "  p=-grad\n",
    "  j=0\n",
    "  jmax=10\n",
    "  while ((f(x+alpha*p) > f(x)+c1*alpha*np.dot(grad,p)) and j<jmax ):\n",
    "    alpha= rho*alpha\n",
    "    j+=1\n",
    "  if (j>jmax):\n",
    "    return -1\n",
    "  else:\n",
    "    print('alpha=',alpha)\n",
    "    return alpha\n",
    "\n",
    "\n",
    "def minimize(f,grad_f,x0,step,maxit,tol,xTrue,fixed=True): # funzione che implementa il metodo del gradiente\n",
    "  #declare x_k and gradient_k vectors\n",
    "  # x_list only for logging\n",
    "  x_list=np.zeros((2,maxit+1))\n",
    "\n",
    "  norm_grad_list=np.zeros(maxit+1)\n",
    "  function_eval_list=np.zeros(maxit+1)\n",
    "  error_list=np.zeros(maxit+1)\n",
    "  \n",
    "  #initialize first values\n",
    "  x_last = x0\n",
    "\n",
    "  x_list[:,0] = x_last\n",
    "  \n",
    "  k=0\n",
    "\n",
    "  function_eval_list[k]=f(...)\n",
    "  error_list[k]=np.linalg.norm(...)\n",
    "  norm_grad_list[k]=np.linalg.norm(grad_f(...))\n",
    "\n",
    "  while (np.linalg.norm(grad_f(x_last))>tol and k < maxit ):\n",
    "    k=k+1\n",
    "    grad = grad_f(...)#direction is given by gradient of the last iteration\n",
    "    \n",
    "    \n",
    "    if fixed:\n",
    "        # Fixed step\n",
    "        step = ...\n",
    "    else:\n",
    "        # backtracking step\n",
    "        step = ...\n",
    "    \n",
    "    if(step==-1):\n",
    "      print('non convergente')\n",
    "      return (k) #no convergence\n",
    "\n",
    "    x_last=x_last-...\n",
    "    \n",
    "    x_list[:,k] = ...\n",
    "\n",
    "    function_eval_list[k]=f(...)\n",
    "    error_list[k]=np.linalg.norm(...)\n",
    "    norm_grad_list[k]=np.linalg.norm(grad_f(...))\n",
    "\n",
    "  function_eval_list = function_eval_list[:k+1]\n",
    "  error_list = error_list[:k+1]\n",
    "  norm_grad_list = norm_grad_list[:k+1]\n",
    "  \n",
    "  print('iterations=',k)\n",
    "  print('last guess: x=(%f,%f)'%(x_list[0,k],x_list[1,k]))\n",
    " \n",
    "  return (x_last,norm_grad_list, function_eval_list, error_list, x_list, k)"
   ],
   "metadata": {
    "collapsed": false,
    "ExecuteTime": {
     "end_time": "2024-01-09T13:14:39.732562998Z",
     "start_time": "2024-01-09T13:14:39.714973801Z"
    }
   },
   "id": "73b3a17e971c5d18",
   "execution_count": 5
  },
  {
   "cell_type": "markdown",
   "source": [
    "### Esercizio 2:\n",
    "Si consideri la seguente funzione:\n",
    "$$ f(x, y) = 3(x − 2)^2 + (y − 1)^2 $$\n",
    "che ha un minimo globale in $(2, 1)$ dove $f(2, 1) = 0$.\n",
    "• plottare la superficie $f(x,y)$ con il comando `plot_surface` nel dominio $[−1.5, 3.5]$ × $[−1, 5]$.\n",
    "• plottare le curve di livello di $f(x, y)$ con il comando `contour` nello stesso dominio.\n",
    "• determinare il punto di minimo di $f(x, y)$ utilizzando la funzione precedentemente scritta (sia con passo fisso che con passo variabile) usando come punto iniziale $(3, 5)$.\n",
    "• si analizzino i risultati in entrambi i casi."
   ],
   "metadata": {
    "collapsed": false
   },
   "id": "4467dd2ddcaecf6"
  },
  {
   "cell_type": "code",
   "outputs": [
    {
     "ename": "TypeError",
     "evalue": "linspace() missing 1 required positional argument: 'stop'",
     "output_type": "error",
     "traceback": [
      "\u001B[0;31m---------------------------------------------------------------------------\u001B[0m",
      "\u001B[0;31mTypeError\u001B[0m                                 Traceback (most recent call last)",
      "Cell \u001B[0;32mIn[6], line 12\u001B[0m\n\u001B[1;32m      9\u001B[0m     dfdy \u001B[38;5;241m=\u001B[39m \u001B[38;5;241m.\u001B[39m\u001B[38;5;241m.\u001B[39m\u001B[38;5;241m.\u001B[39m\n\u001B[1;32m     10\u001B[0m     \u001B[38;5;28;01mreturn\u001B[39;00m np\u001B[38;5;241m.\u001B[39marray([dfdx,dfdy])\n\u001B[0;32m---> 12\u001B[0m x \u001B[38;5;241m=\u001B[39m np\u001B[38;5;241m.\u001B[39mlinspace(\u001B[38;5;241m.\u001B[39m\u001B[38;5;241m.\u001B[39m\u001B[38;5;241m.\u001B[39m)\n\u001B[1;32m     13\u001B[0m y \u001B[38;5;241m=\u001B[39m np\u001B[38;5;241m.\u001B[39mlinspace(\u001B[38;5;241m.\u001B[39m\u001B[38;5;241m.\u001B[39m\u001B[38;5;241m.\u001B[39m)\n\u001B[1;32m     15\u001B[0m X, Y \u001B[38;5;241m=\u001B[39m np\u001B[38;5;241m.\u001B[39mmeshgrid(x, y)\n",
      "\u001B[0;31mTypeError\u001B[0m: linspace() missing 1 required positional argument: 'stop'"
     ]
    }
   ],
   "source": [
    "def f(vec):\n",
    "    x, y = vec\n",
    "    fout = ...\n",
    "    return fout\n",
    "\n",
    "def grad_f(vec):\n",
    "    x, y = vec\n",
    "    dfdx = ...\n",
    "    dfdy = ...\n",
    "    return np.array([dfdx,dfdy])\n",
    "\n",
    "x = np.linspace(...)\n",
    "y = np.linspace(...)\n",
    "\n",
    "X, Y = np.meshgrid(x, y)\n",
    "vec = np.array([X,Y])\n",
    "Z=f(vec)\n",
    "\n",
    "fig = plt.figure(figsize=(15, 8))\n",
    "\n",
    "ax = plt.axes(projection='3d')\n",
    "ax.set_title('$f(x)=(x-1)^2 + (y-2)^2$')\n",
    "#ax.view_init(elev=50., azim=30)\n",
    "s = ax.plot_surface(X, Y, Z, cmap='viridis')\n",
    "fig.colorbar(s)\n",
    "plt.show()\n",
    "\n",
    "fig = plt.figure(figsize=(8, 5))\n",
    "contours = plt.contour(X, Y, Z, levels=1000)\n",
    "plt.title('Contour plot $f(x)=(x-1)^2 + (y-2)^2$')\n",
    "fig.colorbar(contours)\n",
    "\n",
    "\n",
    "step = 0.002\n",
    "maxitS=1000\n",
    "tol=1.e-5\n",
    "x0 = np.array(...)\n",
    "xTrue = np.array(...)\n",
    "(x_last,norm_grad_listf, function_eval_listf, error_listf, xlist, k)= minimize(f,grad_f,x0,step,maxitS,tol,xTrue,fixed=True)\n",
    "plt.plot(...,'*-')\n",
    "(x_last,norm_grad_list, function_eval_list, error_list, xlist, k)= minimize(f,grad_f,x0,step,maxitS,tol,xTrue,fixed=False)\n",
    "plt.plot(...,'*-')\n",
    "plt.legend(['fixed', 'backtracking'])\n",
    "\n",
    "plt.show()\n",
    "\n",
    "fig, (ax1, ax2, ax3) = plt.subplots(1, 3)\n",
    "ax1.semilogy(norm_grad_listf)\n",
    "ax1.semilogy(norm_grad_list)\n",
    "ax1.set_title('$\\|\\\\nabla f(x_k)\\|$')\n",
    "ax2.semilogy(function_eval_listf)\n",
    "ax2.semilogy(function_eval_list)\n",
    "ax2.set_title('$f(x_k)$')\n",
    "ax3.semilogy(error_listf)\n",
    "ax3.semilogy(error_list)\n",
    "ax3.set_title('$\\|x_k-x^*\\|$')\n",
    "fig.tight_layout()\n",
    "fig.legend(['fixed', 'backtracking'], loc='lower center', ncol=4)\n",
    "plt.show()"
   ],
   "metadata": {
    "collapsed": false,
    "ExecuteTime": {
     "end_time": "2024-01-09T13:14:58.371093606Z",
     "start_time": "2024-01-09T13:14:58.328961393Z"
    }
   },
   "id": "3efa8f5327494934",
   "execution_count": 6
  },
  {
   "cell_type": "markdown",
   "source": [
    "### Esercizio 3:\n",
    "Si consideri la seguente funzione detta funzione di Rosenbrock:\n",
    "$$ f(x, y) = 100(y − x^2)^2 + (1 − x)^2 $$\n",
    "che ha un minimo globale in $(1, 1)$ dove $f(1, 1) = 0$. Si eseguano le richieste dell’esercizio precedente nel dominio $[−2, 2]$ × $[−1, 3]$, usando come punto iniziale $(−0.5, 1)$.\n",
    "\n",
    "_Suggerimento per l’analisi dei risultati: confrontare l’accuratezza e il numero di iterazioni dei metodi al variare del punto iniziale,dei parametri per i criteri di arresto, dei valori α quando il passo è costante e nel caso del passo variabile. Spiegare il comportamento dei metodi nei diversi casi._"
   ],
   "metadata": {
    "collapsed": false
   },
   "id": "606c15edeafdb883"
  },
  {
   "cell_type": "code",
   "outputs": [
    {
     "ename": "TypeError",
     "evalue": "linspace() missing 1 required positional argument: 'stop'",
     "output_type": "error",
     "traceback": [
      "\u001B[0;31m---------------------------------------------------------------------------\u001B[0m",
      "\u001B[0;31mTypeError\u001B[0m                                 Traceback (most recent call last)",
      "Cell \u001B[0;32mIn[7], line 12\u001B[0m\n\u001B[1;32m      9\u001B[0m     dfdy \u001B[38;5;241m=\u001B[39m \u001B[38;5;241m.\u001B[39m\u001B[38;5;241m.\u001B[39m\u001B[38;5;241m.\u001B[39m\n\u001B[1;32m     10\u001B[0m     \u001B[38;5;28;01mreturn\u001B[39;00m np\u001B[38;5;241m.\u001B[39marray([dfdx,dfdy])\n\u001B[0;32m---> 12\u001B[0m x \u001B[38;5;241m=\u001B[39m np\u001B[38;5;241m.\u001B[39mlinspace(\u001B[38;5;241m.\u001B[39m\u001B[38;5;241m.\u001B[39m\u001B[38;5;241m.\u001B[39m)\n\u001B[1;32m     13\u001B[0m y \u001B[38;5;241m=\u001B[39m np\u001B[38;5;241m.\u001B[39mlinspace(\u001B[38;5;241m.\u001B[39m\u001B[38;5;241m.\u001B[39m\u001B[38;5;241m.\u001B[39m)\n\u001B[1;32m     14\u001B[0m X, Y \u001B[38;5;241m=\u001B[39m np\u001B[38;5;241m.\u001B[39mmeshgrid(x, y)\n",
      "\u001B[0;31mTypeError\u001B[0m: linspace() missing 1 required positional argument: 'stop'"
     ]
    }
   ],
   "source": [
    "def f(vec):\n",
    "    x, y = vec\n",
    "    fout = ...\n",
    "    return fout\n",
    "\n",
    "def grad_f(vec):\n",
    "    x, y = vec\n",
    "    dfdx = ...\n",
    "    dfdy = ...\n",
    "    return np.array([dfdx,dfdy])\n",
    "    \n",
    "x = np.linspace(...)\n",
    "y = np.linspace(...)\n",
    "X, Y = np.meshgrid(x, y)\n",
    "vec = np.array([X,Y])\n",
    "Z=f(vec)\n",
    "\n",
    "\n",
    "fig = plt.figure(figsize=(15, 8))\n",
    "\n",
    "ax = plt.axes(projection='3d')\n",
    "ax.set_title('$f(x)=(1-x)^2+100*(y-x^2)^2$')\n",
    "#ax.view_init(elev=50., azim=30)\n",
    "s = ax.plot_surface(X, Y, Z, cmap='viridis')\n",
    "fig.colorbar(s)\n",
    "plt.show()\n",
    "\n",
    "fig = plt.figure(figsize=(8, 5))\n",
    "contours = plt.contour(X, Y, Z, levels=1000)\n",
    "plt.title('Contour plot $f(x)=(1-x)^2+100*(y-x^2)^2$')\n",
    "fig.colorbar(contours)\n",
    "\n",
    "\n",
    "step = 0.001\n",
    "maxitS=1000\n",
    "tol=1.e-5\n",
    "x0 = np.array(...)\n",
    "xTrue = np.array(...)\n",
    "(x_last,norm_grad_listf, function_eval_listf, error_listf, xlist, k)= minimize(f,grad_f,x0,step,maxitS,tol,xTrue,fixed=True)\n",
    "plt.plot(...,'*-')\n",
    "(x_last,norm_grad_list, function_eval_list, error_list, xlist, k)= minimize(f,grad_f,x0,step,maxitS,tol,xTrue,fixed=False)\n",
    "plt.plot(...,'*-')\n",
    "plt.legend(['fixed', 'backtracking'])\n",
    "\n",
    "plt.show()\n",
    "\n",
    "fig, (ax1, ax2, ax3) = plt.subplots(1, 3)\n",
    "ax1.semilogy(norm_grad_listf)\n",
    "ax1.semilogy(norm_grad_list)\n",
    "ax1.set_title('$\\|\\\\nabla f(x_k)\\|$')\n",
    "ax2.semilogy(function_eval_listf)\n",
    "ax2.semilogy(function_eval_list)\n",
    "ax2.set_title('$f(x_k)$')\n",
    "ax3.semilogy(error_listf)\n",
    "ax3.semilogy(error_list)\n",
    "ax3.set_title('$\\|x_k-x^*\\|$')\n",
    "fig.legend(['fixed', 'backtracking'], loc='lower center', ncol=4)\n",
    "fig.tight_layout()\n",
    "plt.show()"
   ],
   "metadata": {
    "collapsed": false,
    "ExecuteTime": {
     "end_time": "2024-01-09T13:15:07.177864254Z",
     "start_time": "2024-01-09T13:15:07.132612987Z"
    }
   },
   "id": "3a7901a8a4a05d50",
   "execution_count": 7
  }
 ],
 "metadata": {
  "kernelspec": {
   "display_name": "Python 3",
   "language": "python",
   "name": "python3"
  },
  "language_info": {
   "codemirror_mode": {
    "name": "ipython",
    "version": 2
   },
   "file_extension": ".py",
   "mimetype": "text/x-python",
   "name": "python",
   "nbconvert_exporter": "python",
   "pygments_lexer": "ipython2",
   "version": "2.7.6"
  }
 },
 "nbformat": 4,
 "nbformat_minor": 5
}
