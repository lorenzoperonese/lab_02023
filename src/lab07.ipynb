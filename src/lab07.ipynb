{
 "cells": [
  {
   "cell_type": "markdown",
   "source": [
    "# Laboratorio 7\n",
    "## 1) Image deblur\n",
    "Il problema di deblur consiste nella ricostruzione di un immagine a partire da un dato acquisito mediante il seguente modello:\n",
    "$$ y = Ax + \\eta $$\n",
    "dove :\n",
    "• $y$ rappresenta l’immagine corrotta,\n",
    "• $x$ rappresenta l’immagine originale che vogliamo ricostruire\n",
    "• $A$ rappresenta l’operatore che applica il blur Gaussiano\n",
    "• $\\eta \\sim \\mathcal{N}(0, \\sigma^2)$ rappresenta una realizzazione di rumore additivo con distribuzione Gaussiana di media $\\mu = 0$ e deviazione standard $\\sigma$.\n",
    "\n",
    "### Esercizio 1:\n",
    "• Caricare l’immagine camera dal modulo `skimage.data` rinormalizzandola nel range $[0, 1]$.\n",
    "• Applicare un blur di tipo gaussiano con deviazione standard 3 il cui kernel ha dimensioni 24 × 24. Utilizzare prima `cv2` (`open-cv`) e poi la trasformata di Fourier.\n",
    "• Aggiungere rumore di tipo gaussiano, con $\\sigma = 0.02$, usando la funzione `np.random.normal()`.\n",
    "• Calcolare le metriche Peak Signal Noise Ratio (PSNR) e Mean Squared Error (MSE) tra l’immagine degradata e l’immagine esatta usando le funzioni `peak_signal_noise_ratio` e `mean_squared_error` disponibili nel modulo `skimage.metrics`."
   ],
   "metadata": {
    "collapsed": false
   },
   "id": "a6429a04d5618749"
  },
  {
   "cell_type": "code",
   "outputs": [
    {
     "ename": "SyntaxError",
     "evalue": "invalid syntax (3915169647.py, line 39)",
     "output_type": "error",
     "traceback": [
      "\u001B[0;36m  Cell \u001B[0;32mIn[6], line 39\u001B[0;36m\u001B[0m\n\u001B[0;31m    noise = np.random.normal(size=X.shape) ...\u001B[0m\n\u001B[0m                                           ^\u001B[0m\n\u001B[0;31mSyntaxError\u001B[0m\u001B[0;31m:\u001B[0m invalid syntax\n"
     ]
    }
   ],
   "source": [
    "import cv2 as cv\n",
    "import numpy as np\n",
    "import matplotlib.pyplot as plt\n",
    "from skimage import data, metrics\n",
    "from scipy import signal\n",
    "from numpy import fft\n",
    "import sys\n",
    "from lib.utils import psf_fft, A, AT, gaussian_kernel\n",
    "\n",
    "# Immagine in floating point con valori tra 0 e 1\n",
    "X = ...\n",
    "m, n = X.shape\n",
    "\n",
    "# Genera il filtro di blur\n",
    "k = gaussian_kernel(...)\n",
    "plt.imshow(k)\n",
    "plt.show()\n",
    "\n",
    "# Blur with openCV\n",
    "X_blurred = cv.filter2D(...)\n",
    "plt.subplot(121).imshow(X, cmap='gray', vmin=0, vmax=1)\n",
    "plt.title('Original')\n",
    "plt.xticks([]), plt.yticks([])\n",
    "plt.subplot(122).imshow(X_blurred, cmap='gray', vmin=0, vmax=1)\n",
    "plt.title('Blurred')\n",
    "plt.xticks([]), plt.yticks([])\n",
    "plt.show()\n",
    "\n",
    "# Blur with FFT\n",
    "K = psf_fft(...)\n",
    "plt.imshow(np.abs(K))\n",
    "plt.show()\n",
    "\n",
    "X_blurred = ...\n",
    "\n",
    "# Genera il rumore\n",
    "sigma = 0.02\n",
    "np.random.seed(42)\n",
    "noise = np.random.normal(size=X.shape) ...\n",
    "\n",
    "# Aggiungi blur e rumore\n",
    "y = ...\n",
    "PSNR = metrics.peak_signal_noise_ratio(...)\n",
    "ATy = AT(y, K)\n",
    "\n",
    "\n",
    "# Visualizziamo i risultati\n",
    "plt.figure(figsize=(30, 10))\n",
    "plt.subplot(121).imshow(X, cmap='gray', vmin=0, vmax=1)\n",
    "plt.title('Original')\n",
    "plt.xticks([]), plt.yticks([])\n",
    "plt.subplot(122).imshow(y, cmap='gray', vmin=0, vmax=1)\n",
    "plt.title(f'Corrupted (PSNR: {PSNR:.2f})')\n",
    "plt.xticks([]), plt.yticks([])\n",
    "plt.show()"
   ],
   "metadata": {
    "collapsed": false,
    "ExecuteTime": {
     "end_time": "2024-01-09T13:15:21.585096809Z",
     "start_time": "2024-01-09T13:15:21.543280579Z"
    }
   },
   "id": "bd114c14af32b3a5",
   "execution_count": 6
  },
  {
   "cell_type": "markdown",
   "source": [
    "### Esercizio 2: soluzione naive\n",
    "Una possibile ricostruzione dell’immagine originale $x$ partendo dall’immagine corrotta $y$ è la soluzione naive data dal minimo del seguente problema di ottimizzazione:\n",
    "$$ x^\\ast = \\arg \\min_{x} \\dfrac{1}{2} {\\|Ax − y\\|}^2_2 $$\n",
    "• Utilizzando il metodo del gradiente coniugato implementato dalla funzione `minimize` della libreria `scipy`, calcolare la soluzione naive.\n",
    "• Analizza l’andamento del PSNR e dell’MSE al variare del numero di iterazioni."
   ],
   "metadata": {
    "collapsed": false
   },
   "id": "a62227e8f86dc74b"
  },
  {
   "cell_type": "code",
   "outputs": [
    {
     "ename": "NameError",
     "evalue": "name 'y' is not defined",
     "output_type": "error",
     "traceback": [
      "\u001B[0;31m---------------------------------------------------------------------------\u001B[0m",
      "\u001B[0;31mNameError\u001B[0m                                 Traceback (most recent call last)",
      "Cell \u001B[0;32mIn[7], line 17\u001B[0m\n\u001B[1;32m     14\u001B[0m     \u001B[38;5;28;01mreturn\u001B[39;00m d\u001B[38;5;241m.\u001B[39mreshape(m \u001B[38;5;241m*\u001B[39m n)\n\u001B[1;32m     16\u001B[0m \u001B[38;5;66;03m# Minimizzazione della funzione\u001B[39;00m\n\u001B[0;32m---> 17\u001B[0m x0 \u001B[38;5;241m=\u001B[39m y\u001B[38;5;241m.\u001B[39mreshape(m\u001B[38;5;241m*\u001B[39mn)\n\u001B[1;32m     18\u001B[0m max_iter \u001B[38;5;241m=\u001B[39m \u001B[38;5;241m25\u001B[39m\n\u001B[1;32m     19\u001B[0m res \u001B[38;5;241m=\u001B[39m minimize(\u001B[38;5;241m.\u001B[39m\u001B[38;5;241m.\u001B[39m\u001B[38;5;241m.\u001B[39m, method\u001B[38;5;241m=\u001B[39m\u001B[38;5;124m'\u001B[39m\u001B[38;5;124mCG\u001B[39m\u001B[38;5;124m'\u001B[39m, jac\u001B[38;5;241m=\u001B[39mdf, options\u001B[38;5;241m=\u001B[39m{\u001B[38;5;124m'\u001B[39m\u001B[38;5;124mmaxiter\u001B[39m\u001B[38;5;124m'\u001B[39m:max_iter, \u001B[38;5;124m'\u001B[39m\u001B[38;5;124mreturn_all\u001B[39m\u001B[38;5;124m'\u001B[39m:\u001B[38;5;28;01mTrue\u001B[39;00m})\n",
      "\u001B[0;31mNameError\u001B[0m: name 'y' is not defined"
     ]
    }
   ],
   "source": [
    "from scipy.optimize import minimize\n",
    "\n",
    "# Funzione da minimizzare\n",
    "def f(x):\n",
    "    x = x.reshape((m, n))\n",
    "    Ax = A(x, K)\n",
    "    return 0.5 * np.sum(np.square(Ax - y))\n",
    "\n",
    "# Gradiente della funzione da minimizzare\n",
    "def df(x):\n",
    "    x = x.reshape((m, n))\n",
    "    ATAx = AT(A(x,K),K)\n",
    "    d = ATAx - ATy\n",
    "    return d.reshape(m * n)\n",
    "\n",
    "# Minimizzazione della funzione\n",
    "x0 = y.reshape(m*n)\n",
    "max_iter = 25\n",
    "res = minimize(..., method='CG', jac=df, options={'maxiter':max_iter, 'return_all':True})\n",
    "\n",
    "# Per ogni iterazione calcola il PSNR rispetto all'originale\n",
    "PSNR = np.zeros(max_iter + 1)\n",
    "for k, x_k in enumerate(res.allvecs):\n",
    "    PSNR[k] = metrics.peak_signal_noise_ratio(X, x_k.reshape(X.shape))\n",
    "\n",
    "# Risultato della minimizzazione\n",
    "X_res = res.x.reshape((m, n))\n",
    "\n",
    "# PSNR dell'immagine corrotta rispetto all'oginale\n",
    "starting_PSNR = np.full(PSNR.shape[0], metrics.peak_signal_noise_ratio(X, y))\n",
    "\n",
    "# Visualizziamo i risultati\n",
    "ax2 = plt.subplot(1, 2, 1)\n",
    "ax2.plot(PSNR, label=\"Soluzione naive\")\n",
    "ax2.plot(starting_PSNR, label=\"Immagine corrotta\")\n",
    "plt.legend()\n",
    "plt.title('PSNR per iterazione')\n",
    "plt.ylabel(\"PSNR\")\n",
    "plt.xlabel('itr')\n",
    "plt.subplot(1, 2,2).imshow(X_res, cmap='gray', vmin=0, vmax=1)\n",
    "plt.title('Immagine Ricostruita')\n",
    "plt.xticks([]), plt.yticks([])\n",
    "plt.show()"
   ],
   "metadata": {
    "collapsed": false,
    "ExecuteTime": {
     "end_time": "2024-01-09T13:15:26.719956150Z",
     "start_time": "2024-01-09T13:15:26.684667102Z"
    }
   },
   "id": "281d1c8cb39b13fe",
   "execution_count": 7
  },
  {
   "cell_type": "markdown",
   "source": [
    "### Esercizio 3: soluzione regolarizzata\n",
    "Si consideri il seguente problema regolarizzato secondo Tikhonov:\n",
    "$$ x^\\ast = \\arg \\min_{x} \\dfrac{1}{2} {\\|Ax − y\\|}^2_2 + \\lambda {\\|x\\|}^2_2 $$\n",
    "• Utilizzando sia il metodo del gradiente che il metodo del gradiente coniugato calcolare la soluzione del problema regolarizzato.\n",
    "• Analizzare l’andamento del PSNR e dell’MSE al variare del numero di iterazioni.\n",
    "• Facendo variare il parametro di regolarizzazione $\\lambda$, analizzare come questo influenza le prestazioni del metodo analizzando le immagini.\n",
    "• Scegliere $\\lambda$ con il metodo di discrepanza.\n",
    "• Scegliere $\\lambda$ attraverso test sperimentali come il valore che massimizza il valore del PSNR. Confrontare il valore ottenuto con quella della massima discrepanza."
   ],
   "metadata": {
    "collapsed": false
   },
   "id": "1aa168da1e8cb026"
  },
  {
   "cell_type": "code",
   "outputs": [
    {
     "ename": "NameError",
     "evalue": "name 'y' is not defined",
     "output_type": "error",
     "traceback": [
      "\u001B[0;31m---------------------------------------------------------------------------\u001B[0m",
      "\u001B[0;31mNameError\u001B[0m                                 Traceback (most recent call last)",
      "Cell \u001B[0;32mIn[8], line 16\u001B[0m\n\u001B[1;32m     13\u001B[0m     d \u001B[38;5;241m=\u001B[39m ATAx \u001B[38;5;241m-\u001B[39m ATy\n\u001B[1;32m     14\u001B[0m     \u001B[38;5;28;01mreturn\u001B[39;00m d\u001B[38;5;241m.\u001B[39mreshape(m \u001B[38;5;241m*\u001B[39m n) \u001B[38;5;241m+\u001B[39m Lx\n\u001B[0;32m---> 16\u001B[0m x0 \u001B[38;5;241m=\u001B[39m y\u001B[38;5;241m.\u001B[39mreshape(m\u001B[38;5;241m*\u001B[39mn)\n\u001B[1;32m     17\u001B[0m lambdas \u001B[38;5;241m=\u001B[39m [\u001B[38;5;241m0.01\u001B[39m,\u001B[38;5;241m0.03\u001B[39m,\u001B[38;5;241m0.04\u001B[39m, \u001B[38;5;241m0.06\u001B[39m]\n\u001B[1;32m     18\u001B[0m PSNRs \u001B[38;5;241m=\u001B[39m []\n",
      "\u001B[0;31mNameError\u001B[0m: name 'y' is not defined"
     ]
    }
   ],
   "source": [
    "# Funzione da minimizzare\n",
    "def f(x, L):\n",
    "    nsq = np.sum(np.square(x))\n",
    "    x  = x.reshape((m, n))\n",
    "    Ax = A(x, K)\n",
    "    return 0.5 * np.sum(np.square(Ax - y)) + 0.5 * L * nsq\n",
    "\n",
    "# Gradiente della funzione da minimizzare\n",
    "def df(x, L):\n",
    "    Lx = L * x\n",
    "    x = x.reshape(m, n)\n",
    "    ATAx = AT(A(x,K),K)\n",
    "    d = ATAx - ATy\n",
    "    return d.reshape(m * n) + Lx\n",
    "\n",
    "x0 = y.reshape(m*n)\n",
    "lambdas = [0.01,0.03,0.04, 0.06]\n",
    "PSNRs = []\n",
    "images = []\n",
    "\n",
    "# Ricostruzione per diversi valori del parametro di regolarizzazione\n",
    "for i, L in enumerate(lambdas):\n",
    "    # Esegui la minimizzazione con al massimo 50 iterazioni\n",
    "    max_iter = 50\n",
    "    res = minimize(f, x0, (L), method='CG', jac=df, options={'maxiter':max_iter})\n",
    "\n",
    "    # Aggiungi la ricostruzione nella lista images\n",
    "    X_curr = res.x.reshape(X.shape)\n",
    "    images.append(X_curr)\n",
    "\n",
    "    # Stampa il PSNR per il valore di lambda attuale\n",
    "    PSNR = metrics.peak_signal_noise_ratio(X, X_curr)\n",
    "    PSNRs.append(PSNR)\n",
    "    print(f'PSNR: {PSNR:.2f} (\\u03BB = {L:.2f})')\n",
    "    \n",
    "    \n",
    "\n",
    "# Visualizziamo i risultati\n",
    "plt.plot(lambdas,PSNRs)\n",
    "plt.title('PSNR per $\\lambda$')\n",
    "plt.ylabel(\"PSNR\")\n",
    "plt.xlabel('$\\lambda$')\n",
    "plt.show()\n",
    "\n",
    "plt.figure(figsize=(30, 10))\n",
    "\n",
    "plt.subplot(1, len(lambdas) + 2, 1).imshow(X, cmap='gray', vmin=0, vmax=1)\n",
    "plt.title(\"Originale\")\n",
    "plt.xticks([]), plt.yticks([])\n",
    "plt.subplot(1, len(lambdas) + 2, 2).imshow(y, cmap='gray', vmin=0, vmax=1)\n",
    "plt.title(\"Corrotta\")\n",
    "plt.xticks([]), plt.yticks([])\n",
    "\n",
    "\n",
    "for i, L in enumerate(lambdas):\n",
    "  plt.subplot(1, len(lambdas) + 2, i + 3).imshow(images[i], cmap='gray', vmin=0, vmax=1)\n",
    "  plt.title(f\"Ricostruzione ($\\lambda$ = {L:.2f})\")\n",
    "plt.show()"
   ],
   "metadata": {
    "collapsed": false,
    "ExecuteTime": {
     "end_time": "2024-01-09T13:15:32.910065169Z",
     "start_time": "2024-01-09T13:15:32.846025937Z"
    }
   },
   "id": "20592a9f85614242",
   "execution_count": 8
  },
  {
   "cell_type": "markdown",
   "source": [
    "### Esercizio 4: downsapling\n",
    "• Ripetere i punti precedenti utilizzando anche l’operatore downsampling con i seguenti fattori di scaling $sf = 2, 4, 8, 16$.\n",
    "• Testare i punti precedenti su due immagini in scala di grigio con caratteristiche differenti (per esempio, un’immagine di tipo fotografico e una ottenuta con uno strumento differente, microscopio o altro).\n",
    "• Degradare le nuove immagini applicando, mediante le funzioni gaussian_kernel(), psf_fft(), l’operatore di blur con parametri:\n",
    "– $\\sigma = 0,5$ dimensione del kernel 7 × 7 e 9 × 9\n",
    "– $\\sigma = 1,3$ dimensione del kernel 5 × 5\n",
    "– Aggiungendo rumore gaussiano con deviazione standard nell’ intervallo $(0, 0, 05]$.\n",
    "\n",
    "### Esercizio 5: Variazione Totale (facoltativo)\n",
    "Un’altra funzione adatta come termine di regolarizzazione è la Variazione Totale. Data $x$ immagine di dimensioni m × n, la variazione totale $T V$ di $x$ è definita come:\n",
    "$$ T V(x) = \\sum_{i}^{m} \\sum_{j}^{m} \\sqrt{\\| \\nabla x(i,j)\\|^2_2 + \\epsilon^2} $$\n",
    "Come nei casi precedenti il problema di minimo che si va a risolvere è il seguente:\n",
    "$$ x^\\ast = \\arg \\min_{x} \\dfrac{1}{2} {\\|Ax − b\\|}^2_2 + \\lambda T V(x) $$\n",
    "il cui gradiente $\\nabla f$ è dato da\n",
    "$$ \\nabla f(x) = (A^T Ax - A^T b) + \\lambda \\nabla T V(x) $$\n",
    "• Utilizzando il metodo del gradiente e la funzione `minimize`, calcolare la soluzione del precendente problema di minimo regolarizzato con la funzione TV per differenti valori di λ, utilizzando le funzioni `totvar` e `grad_totvar`.\n",
    "• Per calcolare il gradiente dell’immagine $\\nabla u$ usiamo la funzione `np.gradient` che approssima la derivata per ogni pixel calcolando la differenza tra pixel adiacenti. I risultati sono due immagini della stessa dimensione dell’immagine in input, una che rappresenta il valore della derivata orizzontale e l’altra della derivata verticale . Il gradiente dell’immagine nel punto $(i, j)$ è quindi un vettore di due componenti, uno orizzontale contenuto e uno verticale.\n",
    "• Per risolvere il problema di minimo è necessario anche calcolare il gradiente della variazione totale che è definito nel modo seguente:\n",
    "$$ \\nabla T V(u) = -div\\bigg(\\dfrac{\\nabla u}{\\sqrt{\\| \\nabla u \\|^2_2 + \\epsilon^2}}\\bigg) $$\n",
    "dove la divergenza è definita come: \n",
    "$$ div(F) = \\dfrac{\\partial F_x}{\\partial x} + \\dfrac{\\partial F_y}{\\partial y} $$\n",
    "$div(F)$ è la divergenza del campo vettoriale F, nel nostro caso F ha due componenti dati dal gradiente dell’immagine $\\nabla u$ scalato per il valore $\\dfrac{1}{\\sqrt{\\| \\nabla u \\|^2_2 + \\epsilon^2}}$. Per calcolare la divergenza bisogna calcolare la derivata orizzontale $\\dfrac{\\partial F_x}{\\partial x}$ della componente $x$ di F e sommarla alla derivata verticale $\\dfrac{\\partial F_y}{\\partial y}$ della componente $y$ di F . Per specificare in quale direzione calcolare la derivata con la funzione `np.gradient` utilizziamo il parametro `axis = 0` per l’orizzontale e `axis = 1` per la verticale."
   ],
   "metadata": {
    "collapsed": false
   },
   "id": "15af12fe4e3e9b8"
  }
 ],
 "metadata": {
  "kernelspec": {
   "display_name": "Python 3",
   "language": "python",
   "name": "python3"
  },
  "language_info": {
   "codemirror_mode": {
    "name": "ipython",
    "version": 2
   },
   "file_extension": ".py",
   "mimetype": "text/x-python",
   "name": "python",
   "nbconvert_exporter": "python",
   "pygments_lexer": "ipython2",
   "version": "2.7.6"
  }
 },
 "nbformat": 4,
 "nbformat_minor": 5
}
