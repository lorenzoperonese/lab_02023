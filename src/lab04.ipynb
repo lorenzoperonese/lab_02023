{
 "cells": [
  {
   "cell_type": "markdown",
   "source": [
    "# Laboratorio 4\n",
    "## 1) Problema minimi quadrati\n",
    "Data una matrice $A$ di dimensioni $m \\cdot n$ con $m \\ge n$ ed un vettore $y$ di $m$ componenti, il problema dei minimi quadrati è il seguente: \n",
    "$$\\alpha^\\ast = \\arg \\min_{\\alpha}\\|A\\alpha − y\\|^2_2$$\n",
    "Questo problema di minimo può essere risolto in due modi:\n",
    "• **Metodo delle equazioni normali.** Se A ha rango massimo il problema di minimo può essere riscritto in maniera equivalente come segue: $A^T A\\alpha = A^T y$.\n",
    "Questo sistema si può risolvere utilizzando la fattorizzazione LU o di Cholesky (dato che la matrice $A^T A$ è simmetrica).\n",
    "• **SVD.** Se A non ha rango massimo il problema è sottodeterminato, quindi ha più di una soluzione. In questo caso si considera la decomposizione SVD della matrice $A = USV^T$ dove $U \\in \\mathbb{R}^{m×m}$ e $V^T \\in \\mathbb{R}^{n×n}$ matrici ortogonali e $S \\in \\mathbb{R}^{m×n}$ diagonale. Da questa  ecomposizione si può calcolare esplicitemente la soluzione di minima norma del problema di minimi quadrati come segue: \n",
    "$$\\alpha = \\sum_{i=0}^r \\dfrac{(u_i^T \\: y) \\: v_i}{s_i}.$$\n",
    "\n",
    "Assegnata una matrice $A$ di numeri casuali di dimensione $m × n$ con $m > n$, generata utilizzando la funzione `np.random.rand`, scegliere un vettore $\\alpha$ (per esempio con elementi costanti) come soluzione per creare un problema test e calcolare il termine noto $y = A\\alpha$.\n",
    "Definito quindi il problema di minimi quadrati con la matrice A ed il termine noto $y$ calcolato:\n",
    "• Calcolare la soluzione del problema risolvendo le equazioni normali mediante la fattorizzazione LU e Cholesky.\n",
    "• Calcolare la soluzione del problema usando la SVD della matrice A.\n",
    "• Calcolare l’errore relativo delle soluzioni trovate, rispetto al vettore $\\alpha$, soluzione esatta,  tilizzata per generare il problema test."
   ],
   "metadata": {
    "collapsed": false
   },
   "id": "8f5e71ade8badc84"
  },
  {
   "cell_type": "code",
   "outputs": [],
   "source": [
    "import numpy as np\n",
    "import matplotlib.pyplot as plt\n",
    "import scipy.linalg\n",
    "from scipy.linalg import lu_factor as LUdec \n",
    "\n",
    "m = 100\n",
    "n = 10\n",
    "\n",
    "A = ...\n",
    "\n",
    "alpha_test = ...\n",
    "y = ...\n",
    "\n",
    "print('alpha test', alpha_test)\n",
    "\n",
    "ATA = A.T@A\n",
    "ATy = A.T@y\n",
    "\n",
    "lu, piv = LUdec(...)\n",
    "alpha_LU = scipy.linalg.lu_solve((lu,piv), ...)\n",
    "\n",
    "print('alpha LU', alpha_LU)\n",
    "\n",
    "L = scipy.linalg.cholesky(ATA)\n",
    "x = scipy.linalg.solve_triangular(np.transpose(L), ..., lower=True)\n",
    "alpha_chol = scipy.linalg.solve_triangular(L, ..., lower=False)\n",
    "\n",
    "print('alpha chol', alpha_chol)\n",
    "\n",
    "U, s, Vh = scipy.linalg.svd(A)\n",
    "\n",
    "print('Shape of U:', U.shape)\n",
    "print('Shape of s:', s.shape)\n",
    "print('Shape of V:', Vh.T.shape)\n",
    "\n",
    "alpha_svd = np.zeros(s.shape)\n",
    "\n",
    "for i in range(n):\n",
    "  ui = U[:, i]\n",
    "  vi = Vh[i, :]\n",
    "\n",
    "  alpha_svd = alpha_svd + ...\n",
    "\n",
    "print('alpha SVD', alpha_svd)"
   ],
   "metadata": {
    "collapsed": false
   },
   "id": "3f992cfcbe03ffa6",
   "execution_count": null
  },
  {
   "cell_type": "markdown",
   "source": [
    "## 2) Approssimazione di un set di dati tramite Minimi Quadrati\n",
    "Sia $\\{(x_i , y_i)\\}^m_{i=0}$ un set di dati, che devono essere approssimati da un polinomio di grado $n \\in \\mathbb{N}$ fissato.\n",
    "$$\n",
    "p(x) = \\alpha_0 + \\alpha_1 x + \\dots+ \\alpha_n x^n\n",
    "$$\n",
    "Per calcolare i coefficienti del polinomio si deve risolvere un problema di minimi quadrati in cui la matrice A è definita come segue: \n",
    "$$\n",
    "A = \\begin{bmatrix} 1 & x_0 & x^2_0 & \\dots & x^n_0\\\\ 1 & x_1 & x^2_1 & \\dots & x^n_1\\\\ \\vdots & \\vdots & \\vdots & \\vdots & \\vdots\\\\ 1 & x_m & x^2_m & \\dots & x^n_m \\end{bmatrix}\n",
    "$$\n",
    "Mentre il termine noto è:\n",
    "$$\n",
    "y = \\begin{bmatrix} y_0\\\\ \\vdots\\\\ y_m \\end{bmatrix}\n",
    "$$\n",
    "\n",
    "Date le seguenti funzioni:\n",
    "• $f(x) = exp(x/2) \\quad x \\in [-1,1]$\n",
    "• $f(x) = \\dfrac{1}{1+25x^2} \\quad x \\in [-1,1]$\n",
    "• $f(x) = sin(x) + cos(x) \\quad x \\in [0, 2\\pi]$\n",
    "Si eseguano le seguenti richieste per ciascuna delle funzioni date:\n",
    "1. Calcolare $m = 10$ coppie di punti $(x_i, f(x_i))$.\n",
    "2. Per $n$ fissato, calcolare una soluzione del problema di minimi quadrati, descritto sopra, utilizzando un metodo a scelta tra quelli utilizzati nell’esercizio precedente.\n",
    "3. Per ciascun valore di $n \\in \\{1, 2, 3, 5, 7\\}$, creare una figura con il grafico della funzione esatta $f(x)$ insieme a quello del polinomio di approssimazione $p(x)$, evidenziando gli $m$ punti noti.\n",
    "4. Per ciascun valore di $n \\in \\{1, 2, 3, 5, 7\\}$, calcolare e stampare il valore del residuo in norma 2 commesso nei punti $x_i$."
   ],
   "metadata": {
    "collapsed": false
   },
   "id": "5d19d0403ba9ec4c"
  },
  {
   "cell_type": "code",
   "outputs": [
    {
     "ename": "TypeError",
     "evalue": "'ellipsis' object does not support item assignment",
     "output_type": "error",
     "traceback": [
      "\u001B[0;31m---------------------------------------------------------------------------\u001B[0m",
      "\u001B[0;31mTypeError\u001B[0m                                 Traceback (most recent call last)",
      "Cell \u001B[0;32mIn[3], line 22\u001B[0m\n\u001B[1;32m     19\u001B[0m A \u001B[38;5;241m=\u001B[39m \u001B[38;5;241m.\u001B[39m\u001B[38;5;241m.\u001B[39m\u001B[38;5;241m.\u001B[39m\n\u001B[1;32m     21\u001B[0m \u001B[38;5;28;01mfor\u001B[39;00m i \u001B[38;5;129;01min\u001B[39;00m \u001B[38;5;28mrange\u001B[39m(n\u001B[38;5;241m+\u001B[39m\u001B[38;5;241m1\u001B[39m):\n\u001B[0;32m---> 22\u001B[0m   A[:, i] \u001B[38;5;241m=\u001B[39m \u001B[38;5;241m.\u001B[39m\u001B[38;5;241m.\u001B[39m\u001B[38;5;241m.\u001B[39m\n\u001B[1;32m     24\u001B[0m U, s, Vh \u001B[38;5;241m=\u001B[39m scipy\u001B[38;5;241m.\u001B[39mlinalg\u001B[38;5;241m.\u001B[39msvd(A)\n\u001B[1;32m     27\u001B[0m alpha_svd \u001B[38;5;241m=\u001B[39m np\u001B[38;5;241m.\u001B[39mzeros(n\u001B[38;5;241m+\u001B[39m\u001B[38;5;241m1\u001B[39m)\n",
      "\u001B[0;31mTypeError\u001B[0m: 'ellipsis' object does not support item assignment"
     ]
    }
   ],
   "source": [
    "case = 2\n",
    "m = 10\n",
    "m_plot = 100\n",
    "\n",
    "# Grado polinomio approssimante\n",
    "n = 5\n",
    "\n",
    "if case==0:\n",
    "    x = np.linspace(-1,1,m)\n",
    "    y = np.exp(x/2)\n",
    "elif case==1:\n",
    "    x = np.linspace(-1,1,m)\n",
    "    y = 1/(1+25*(x**2))\n",
    "elif case==2:\n",
    "    x = np.linspace(0,2*np.pi,m)\n",
    "    y = np.sin(x)+np.cos(x)\n",
    "\n",
    "\n",
    "A = ...\n",
    "\n",
    "for i in range(n+1):\n",
    "  A[:, i] = ...\n",
    "  \n",
    "U, s, Vh = scipy.linalg.svd(A)\n",
    "\n",
    "\n",
    "alpha_svd = np.zeros(n+1)\n",
    "\n",
    "for i in range(n+1):\n",
    "  ui = U[:, i]\n",
    "  vi = Vh[i, :]\n",
    "\n",
    "  alpha_svd = alpha_svd + ...\n",
    "\n",
    "print(alpha_svd)\n",
    "\n",
    "\n",
    "x_plot = np.linspace(x[0], x[-1], m_plot)\n",
    "A_plot = np.zeros((m_plot, n+1))\n",
    "\n",
    "for i in range(n+1):\n",
    "  A_plot[:, i] = ...\n",
    "\n",
    "y_interpolation = ...\n",
    "\n",
    "plt.plot(x, y, 'o')\n",
    "plt.plot(x_plot, y_interpolation, 'r')\n",
    "plt.xlabel('x')\n",
    "plt.ylabel('y')\n",
    "plt.title(f'Interpolazione polinomiale di grado {n}')\n",
    "plt.grid()\n",
    "plt.show()\n",
    "\n",
    "\n",
    "res = np.linalg.norm(...)\n",
    "print('Residual: ', res)"
   ],
   "metadata": {
    "collapsed": true,
    "ExecuteTime": {
     "end_time": "2024-01-09T13:13:46.934466213Z",
     "start_time": "2024-01-09T13:13:46.882922871Z"
    }
   },
   "id": "initial_id",
   "execution_count": 3
  }
 ],
 "metadata": {
  "kernelspec": {
   "display_name": "Python 3",
   "language": "python",
   "name": "python3"
  },
  "language_info": {
   "codemirror_mode": {
    "name": "ipython",
    "version": 2
   },
   "file_extension": ".py",
   "mimetype": "text/x-python",
   "name": "python",
   "nbconvert_exporter": "python",
   "pygments_lexer": "ipython2",
   "version": "2.7.6"
  }
 },
 "nbformat": 4,
 "nbformat_minor": 5
}
